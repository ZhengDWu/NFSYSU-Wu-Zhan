{
 "cells": [
  {
   "cell_type": "markdown",
   "metadata": {},
   "source": [
    "## 导包"
   ]
  },
  {
   "cell_type": "code",
   "execution_count": 1,
   "metadata": {},
   "outputs": [],
   "source": [
    "import torch\n",
    "import torch.nn as nn\n",
    "import torch.nn.functional as F\n",
    "from torch.autograd import Variable\n",
    "\n",
    "import numpy as np\n",
    "import matplotlib.pyplot as plt\n",
    "import pandas as pd"
   ]
  },
  {
   "cell_type": "markdown",
   "metadata": {},
   "source": [
    "### 导入数据"
   ]
  },
  {
   "cell_type": "code",
   "execution_count": 2,
   "metadata": {},
   "outputs": [],
   "source": [
    "# use numpy to load dataset\n",
    "dataset = np.loadtxt('./dataset/stock_2.csv', delimiter=\",\", dtype=\"str\")"
   ]
  },
  {
   "cell_type": "code",
   "execution_count": 3,
   "metadata": {},
   "outputs": [
    {
     "name": "stdout",
     "output_type": "stream",
     "text": [
      "(6110, 10)\n"
     ]
    }
   ],
   "source": [
    "print(dataset.shape)"
   ]
  },
  {
   "cell_type": "code",
   "execution_count": 4,
   "metadata": {},
   "outputs": [
    {
     "data": {
      "text/plain": [
       "array([['index_code', 'date', 'open', 'close', 'low', 'high', 'volume',\n",
       "        'money', 'change', 'label'],\n",
       "       ['sh000001', '1990/12/20', '104.3', '104.39', '99.98', '104.39',\n",
       "        '197000', '85000', '0.044108822', '109.13'],\n",
       "       ['sh000001', '1990/12/21', '109.07', '109.13', '103.73', '109.13',\n",
       "        '28000', '16100', '0.045406648', '114.55'],\n",
       "       ['sh000001', '1990/12/24', '113.57', '114.55', '109.13', '114.55',\n",
       "        '32000', '31100', '0.049665537', '120.25'],\n",
       "       ['sh000001', '1990/12/25', '120.09', '120.25', '114.55', '120.25',\n",
       "        '15000', '6500', '0.04975993', '125.27']], dtype='<U12')"
      ]
     },
     "execution_count": 4,
     "metadata": {},
     "output_type": "execute_result"
    }
   ],
   "source": [
    "dataset[:5, :]"
   ]
  },
  {
   "cell_type": "code",
   "execution_count": 5,
   "metadata": {},
   "outputs": [],
   "source": [
    "# pandas 导入数据\n",
    "dataset_pd = pd.read_csv('./dataset/stock_2.csv')"
   ]
  },
  {
   "cell_type": "code",
   "execution_count": 6,
   "metadata": {},
   "outputs": [
    {
     "data": {
      "text/html": [
       "<div>\n",
       "<style scoped>\n",
       "    .dataframe tbody tr th:only-of-type {\n",
       "        vertical-align: middle;\n",
       "    }\n",
       "\n",
       "    .dataframe tbody tr th {\n",
       "        vertical-align: top;\n",
       "    }\n",
       "\n",
       "    .dataframe thead th {\n",
       "        text-align: right;\n",
       "    }\n",
       "</style>\n",
       "<table border=\"1\" class=\"dataframe\">\n",
       "  <thead>\n",
       "    <tr style=\"text-align: right;\">\n",
       "      <th></th>\n",
       "      <th>index_code</th>\n",
       "      <th>date</th>\n",
       "      <th>open</th>\n",
       "      <th>close</th>\n",
       "      <th>low</th>\n",
       "      <th>high</th>\n",
       "      <th>volume</th>\n",
       "      <th>money</th>\n",
       "      <th>change</th>\n",
       "      <th>label</th>\n",
       "    </tr>\n",
       "  </thead>\n",
       "  <tbody>\n",
       "    <tr>\n",
       "      <th>0</th>\n",
       "      <td>sh000001</td>\n",
       "      <td>1990/12/20</td>\n",
       "      <td>104.30</td>\n",
       "      <td>104.39</td>\n",
       "      <td>99.98</td>\n",
       "      <td>104.39</td>\n",
       "      <td>197000.0</td>\n",
       "      <td>85000.0</td>\n",
       "      <td>0.044109</td>\n",
       "      <td>109.13</td>\n",
       "    </tr>\n",
       "    <tr>\n",
       "      <th>1</th>\n",
       "      <td>sh000001</td>\n",
       "      <td>1990/12/21</td>\n",
       "      <td>109.07</td>\n",
       "      <td>109.13</td>\n",
       "      <td>103.73</td>\n",
       "      <td>109.13</td>\n",
       "      <td>28000.0</td>\n",
       "      <td>16100.0</td>\n",
       "      <td>0.045407</td>\n",
       "      <td>114.55</td>\n",
       "    </tr>\n",
       "    <tr>\n",
       "      <th>2</th>\n",
       "      <td>sh000001</td>\n",
       "      <td>1990/12/24</td>\n",
       "      <td>113.57</td>\n",
       "      <td>114.55</td>\n",
       "      <td>109.13</td>\n",
       "      <td>114.55</td>\n",
       "      <td>32000.0</td>\n",
       "      <td>31100.0</td>\n",
       "      <td>0.049666</td>\n",
       "      <td>120.25</td>\n",
       "    </tr>\n",
       "    <tr>\n",
       "      <th>3</th>\n",
       "      <td>sh000001</td>\n",
       "      <td>1990/12/25</td>\n",
       "      <td>120.09</td>\n",
       "      <td>120.25</td>\n",
       "      <td>114.55</td>\n",
       "      <td>120.25</td>\n",
       "      <td>15000.0</td>\n",
       "      <td>6500.0</td>\n",
       "      <td>0.049760</td>\n",
       "      <td>125.27</td>\n",
       "    </tr>\n",
       "    <tr>\n",
       "      <th>4</th>\n",
       "      <td>sh000001</td>\n",
       "      <td>1990/12/26</td>\n",
       "      <td>125.27</td>\n",
       "      <td>125.27</td>\n",
       "      <td>120.25</td>\n",
       "      <td>125.27</td>\n",
       "      <td>100000.0</td>\n",
       "      <td>53700.0</td>\n",
       "      <td>0.041746</td>\n",
       "      <td>125.28</td>\n",
       "    </tr>\n",
       "  </tbody>\n",
       "</table>\n",
       "</div>"
      ],
      "text/plain": [
       "  index_code        date    open   close     low    high    volume    money  \\\n",
       "0   sh000001  1990/12/20  104.30  104.39   99.98  104.39  197000.0  85000.0   \n",
       "1   sh000001  1990/12/21  109.07  109.13  103.73  109.13   28000.0  16100.0   \n",
       "2   sh000001  1990/12/24  113.57  114.55  109.13  114.55   32000.0  31100.0   \n",
       "3   sh000001  1990/12/25  120.09  120.25  114.55  120.25   15000.0   6500.0   \n",
       "4   sh000001  1990/12/26  125.27  125.27  120.25  125.27  100000.0  53700.0   \n",
       "\n",
       "     change   label  \n",
       "0  0.044109  109.13  \n",
       "1  0.045407  114.55  \n",
       "2  0.049666  120.25  \n",
       "3  0.049760  125.27  \n",
       "4  0.041746  125.28  "
      ]
     },
     "execution_count": 6,
     "metadata": {},
     "output_type": "execute_result"
    }
   ],
   "source": [
    "dataset_pd.head(5)"
   ]
  },
  {
   "cell_type": "code",
   "execution_count": 7,
   "metadata": {},
   "outputs": [],
   "source": [
    "# pandas 的数据 转成 numpy 的 矩阵\n",
    "dataset_np = dataset_pd.values"
   ]
  },
  {
   "cell_type": "code",
   "execution_count": 8,
   "metadata": {},
   "outputs": [
    {
     "data": {
      "text/plain": [
       "(6109, 10)"
      ]
     },
     "execution_count": 8,
     "metadata": {},
     "output_type": "execute_result"
    }
   ],
   "source": [
    "dataset_np.shape"
   ]
  },
  {
   "cell_type": "code",
   "execution_count": 9,
   "metadata": {},
   "outputs": [
    {
     "data": {
      "text/plain": [
       "array([['sh000001', '1990/12/20', 104.3, 104.39, 99.98, 104.39, 197000.0,\n",
       "        85000.0, 0.044108822, 109.13],\n",
       "       ['sh000001', '1990/12/21', 109.07, 109.13, 103.73, 109.13,\n",
       "        28000.0, 16100.0, 0.045406648, 114.55],\n",
       "       ['sh000001', '1990/12/24', 113.57, 114.55, 109.13, 114.55,\n",
       "        32000.0, 31100.0, 0.049665537, 120.25],\n",
       "       ['sh000001', '1990/12/25', 120.09, 120.25, 114.55, 120.25,\n",
       "        15000.0, 6500.0, 0.04975993, 125.27],\n",
       "       ['sh000001', '1990/12/26', 125.27, 125.27, 120.25, 125.27,\n",
       "        100000.0, 53700.0, 0.041746362, 125.28]], dtype=object)"
      ]
     },
     "execution_count": 9,
     "metadata": {},
     "output_type": "execute_result"
    }
   ],
   "source": [
    "dataset_np[:5, :]"
   ]
  },
  {
   "cell_type": "markdown",
   "metadata": {},
   "source": [
    "## 切出 X 和 y"
   ]
  },
  {
   "cell_type": "code",
   "execution_count": 10,
   "metadata": {},
   "outputs": [],
   "source": [
    "X = dataset_np[:, 2:-1].astype(np.float32)\n",
    "y = dataset_np[:, -1:].astype(np.float32)"
   ]
  },
  {
   "cell_type": "code",
   "execution_count": 11,
   "metadata": {},
   "outputs": [
    {
     "name": "stdout",
     "output_type": "stream",
     "text": [
      "(6109, 7)\n",
      "float32\n"
     ]
    }
   ],
   "source": [
    "print(X.shape)\n",
    "print(X.dtype)"
   ]
  },
  {
   "cell_type": "code",
   "execution_count": 12,
   "metadata": {},
   "outputs": [
    {
     "name": "stdout",
     "output_type": "stream",
     "text": [
      "(6109, 1)\n",
      "float32\n"
     ]
    }
   ],
   "source": [
    "print(y.shape)\n",
    "print(y.dtype)"
   ]
  },
  {
   "cell_type": "markdown",
   "metadata": {},
   "source": [
    "### split training set and testing set"
   ]
  },
  {
   "cell_type": "code",
   "execution_count": 13,
   "metadata": {},
   "outputs": [],
   "source": [
    "from sklearn.model_selection import train_test_split\n",
    "\n",
    "X_train, X_test, y_train, y_test = train_test_split(X, y, test_size=0.2, random_state=19)"
   ]
  },
  {
   "cell_type": "markdown",
   "metadata": {},
   "source": [
    "### 标准化"
   ]
  },
  {
   "cell_type": "code",
   "execution_count": 14,
   "metadata": {},
   "outputs": [],
   "source": [
    "from sklearn.preprocessing import StandardScaler\n",
    "\n",
    "standard = StandardScaler()\n",
    "standard.fit(X_train)\n",
    "\n",
    "X_train_standard = standard.transform(X_train)\n",
    "X_test_standard = standard.transform(X_test)"
   ]
  },
  {
   "cell_type": "markdown",
   "metadata": {},
   "source": [
    "### 设定超参数"
   ]
  },
  {
   "cell_type": "code",
   "execution_count": 15,
   "metadata": {},
   "outputs": [],
   "source": [
    "input_size = X.shape[1] # 7\n",
    "ouput_size = y.shape[1] # 1\n",
    "hidden_size = 32 # 神经元的个数为 32\n",
    "learning_rate = 1e-2\n",
    "EPOCH = 10000"
   ]
  },
  {
   "cell_type": "markdown",
   "metadata": {},
   "source": [
    "### 搭建模型 —— 全连接神经网络"
   ]
  },
  {
   "cell_type": "code",
   "execution_count": 16,
   "metadata": {},
   "outputs": [],
   "source": [
    "class Net(nn.Module):\n",
    "    def __init__(self):\n",
    "        super(Net, self).__init__()\n",
    "        \n",
    "        self.hidden1 = nn.Linear(input_size, hidden_size) # [-1, 7] * [7, 32] ==> [-1, 32]\n",
    "        self.hidden2 = nn.Linear(hidden_size, hidden_size) # [-1, 32] * [32, 32] ==> [-1, 32]\n",
    "        \n",
    "        self.predict = nn.Linear(hidden_size, ouput_size) # [-1, 32] * [32, 1] ==> [-1, 1]\n",
    "    \n",
    "    def forward(self, x):\n",
    "        # x (X_train 和 X_test) == [-1, 7]\n",
    "        # 真正搭建网络的地方\n",
    "        x = F.relu(self.hidden1(x))\n",
    "        x = F.relu(self.hidden2(x))\n",
    "        \n",
    "        out = self.predict(x)\n",
    "        \n",
    "        return out"
   ]
  },
  {
   "cell_type": "code",
   "execution_count": 17,
   "metadata": {},
   "outputs": [
    {
     "data": {
      "text/plain": [
       "Net(\n",
       "  (hidden1): Linear(in_features=7, out_features=32, bias=True)\n",
       "  (hidden2): Linear(in_features=32, out_features=32, bias=True)\n",
       "  (predict): Linear(in_features=32, out_features=1, bias=True)\n",
       ")"
      ]
     },
     "execution_count": 17,
     "metadata": {},
     "output_type": "execute_result"
    }
   ],
   "source": [
    "net = Net()\n",
    "net"
   ]
  },
  {
   "cell_type": "markdown",
   "metadata": {},
   "source": [
    "### 优化器，损失函数"
   ]
  },
  {
   "cell_type": "code",
   "execution_count": 18,
   "metadata": {},
   "outputs": [],
   "source": [
    "optimizer = torch.optim.Adam(net.parameters(), lr=learning_rate)\n",
    "loss_func = nn.MSELoss()"
   ]
  },
  {
   "cell_type": "markdown",
   "metadata": {},
   "source": [
    "### 开始训练我们的模型"
   ]
  },
  {
   "cell_type": "code",
   "execution_count": 19,
   "metadata": {},
   "outputs": [
    {
     "name": "stdout",
     "output_type": "stream",
     "text": [
      "Trianing....Epoch:  50 Loss:  3263116.5\n",
      "Trianing....Epoch:  100 Loss:  680832.7\n",
      "Trianing....Epoch:  150 Loss:  187495.23\n",
      "Trianing....Epoch:  200 Loss:  88337.26\n",
      "Trianing....Epoch:  250 Loss:  48716.492\n",
      "Trianing....Epoch:  300 Loss:  23553.512\n",
      "Trianing....Epoch:  350 Loss:  10728.194\n",
      "Trianing....Epoch:  400 Loss:  5240.492\n",
      "Trianing....Epoch:  450 Loss:  2972.6516\n",
      "Trianing....Epoch:  500 Loss:  2023.6671\n",
      "---------------------------------------\n",
      "Testing....Epoch:  500 Loss:  1996.9788\n",
      "---------------------------------------\n",
      "Trianing....Epoch:  550 Loss:  1532.082\n",
      "Trianing....Epoch:  600 Loss:  1098.6709\n",
      "Trianing....Epoch:  650 Loss:  927.11237\n",
      "Trianing....Epoch:  700 Loss:  876.1301\n",
      "Trianing....Epoch:  750 Loss:  861.21967\n",
      "Trianing....Epoch:  800 Loss:  855.46826\n",
      "Trianing....Epoch:  850 Loss:  851.328\n",
      "Trianing....Epoch:  900 Loss:  848.1492\n",
      "Trianing....Epoch:  950 Loss:  845.4527\n",
      "Trianing....Epoch:  1000 Loss:  842.87213\n",
      "---------------------------------------\n",
      "Testing....Epoch:  1000 Loss:  1267.5262\n",
      "---------------------------------------\n",
      "Trianing....Epoch:  1050 Loss:  840.38574\n",
      "Trianing....Epoch:  1100 Loss:  838.0122\n",
      "Trianing....Epoch:  1150 Loss:  835.7379\n",
      "Trianing....Epoch:  1200 Loss:  833.525\n",
      "Trianing....Epoch:  1250 Loss:  831.2269\n",
      "Trianing....Epoch:  1300 Loss:  828.9865\n",
      "Trianing....Epoch:  1350 Loss:  826.68005\n",
      "Trianing....Epoch:  1400 Loss:  824.38354\n",
      "Trianing....Epoch:  1450 Loss:  822.15204\n",
      "Trianing....Epoch:  1500 Loss:  819.8568\n",
      "---------------------------------------\n",
      "Testing....Epoch:  1500 Loss:  1243.1125\n",
      "---------------------------------------\n",
      "Trianing....Epoch:  1550 Loss:  817.49255\n",
      "Trianing....Epoch:  1600 Loss:  815.1159\n",
      "Trianing....Epoch:  1650 Loss:  812.7228\n",
      "Trianing....Epoch:  1700 Loss:  810.2176\n",
      "Trianing....Epoch:  1750 Loss:  807.689\n",
      "Trianing....Epoch:  1800 Loss:  804.95416\n",
      "Trianing....Epoch:  1850 Loss:  802.2776\n",
      "Trianing....Epoch:  1900 Loss:  799.7141\n",
      "Trianing....Epoch:  1950 Loss:  797.3002\n",
      "Trianing....Epoch:  2000 Loss:  794.7087\n",
      "---------------------------------------\n",
      "Testing....Epoch:  2000 Loss:  1217.8976\n",
      "---------------------------------------\n",
      "Trianing....Epoch:  2050 Loss:  792.147\n",
      "Trianing....Epoch:  2100 Loss:  789.3228\n",
      "Trianing....Epoch:  2150 Loss:  786.7361\n",
      "Trianing....Epoch:  2200 Loss:  784.26544\n",
      "Trianing....Epoch:  2250 Loss:  781.7782\n",
      "Trianing....Epoch:  2300 Loss:  779.4192\n",
      "Trianing....Epoch:  2350 Loss:  777.28894\n",
      "Trianing....Epoch:  2400 Loss:  775.1002\n",
      "Trianing....Epoch:  2450 Loss:  772.8829\n",
      "Trianing....Epoch:  2500 Loss:  770.81866\n",
      "---------------------------------------\n",
      "Testing....Epoch:  2500 Loss:  1197.3276\n",
      "---------------------------------------\n",
      "Trianing....Epoch:  2550 Loss:  768.68024\n",
      "Trianing....Epoch:  2600 Loss:  766.49243\n",
      "Trianing....Epoch:  2650 Loss:  764.3437\n",
      "Trianing....Epoch:  2700 Loss:  762.1901\n",
      "Trianing....Epoch:  2750 Loss:  760.02637\n",
      "Trianing....Epoch:  2800 Loss:  757.89374\n",
      "Trianing....Epoch:  2850 Loss:  755.6802\n",
      "Trianing....Epoch:  2900 Loss:  753.47815\n",
      "Trianing....Epoch:  2950 Loss:  751.24744\n",
      "Trianing....Epoch:  3000 Loss:  748.9682\n",
      "---------------------------------------\n",
      "Testing....Epoch:  3000 Loss:  1175.5771\n",
      "---------------------------------------\n",
      "Trianing....Epoch:  3050 Loss:  746.55884\n",
      "Trianing....Epoch:  3100 Loss:  744.1348\n",
      "Trianing....Epoch:  3150 Loss:  741.7446\n",
      "Trianing....Epoch:  3200 Loss:  739.52936\n",
      "Trianing....Epoch:  3250 Loss:  737.00555\n",
      "Trianing....Epoch:  3300 Loss:  734.5703\n",
      "Trianing....Epoch:  3350 Loss:  732.1856\n",
      "Trianing....Epoch:  3400 Loss:  729.80115\n",
      "Trianing....Epoch:  3450 Loss:  727.39954\n",
      "Trianing....Epoch:  3500 Loss:  724.9833\n",
      "---------------------------------------\n",
      "Testing....Epoch:  3500 Loss:  1154.7225\n",
      "---------------------------------------\n",
      "Trianing....Epoch:  3550 Loss:  722.5409\n",
      "Trianing....Epoch:  3600 Loss:  720.0572\n",
      "Trianing....Epoch:  3650 Loss:  717.64215\n",
      "Trianing....Epoch:  3700 Loss:  715.27344\n",
      "Trianing....Epoch:  3750 Loss:  712.8671\n",
      "Trianing....Epoch:  3800 Loss:  710.49097\n",
      "Trianing....Epoch:  3850 Loss:  708.08746\n",
      "Trianing....Epoch:  3900 Loss:  705.78986\n",
      "Trianing....Epoch:  3950 Loss:  703.4051\n",
      "Trianing....Epoch:  4000 Loss:  701.38916\n",
      "---------------------------------------\n",
      "Testing....Epoch:  4000 Loss:  1134.4084\n",
      "---------------------------------------\n",
      "Trianing....Epoch:  4050 Loss:  698.6838\n",
      "Trianing....Epoch:  4100 Loss:  696.2566\n",
      "Trianing....Epoch:  4150 Loss:  693.98627\n",
      "Trianing....Epoch:  4200 Loss:  691.6007\n",
      "Trianing....Epoch:  4250 Loss:  689.31805\n",
      "Trianing....Epoch:  4300 Loss:  686.9025\n",
      "Trianing....Epoch:  4350 Loss:  684.8888\n",
      "Trianing....Epoch:  4400 Loss:  682.4207\n",
      "Trianing....Epoch:  4450 Loss:  680.4439\n",
      "Trianing....Epoch:  4500 Loss:  678.3469\n",
      "---------------------------------------\n",
      "Testing....Epoch:  4500 Loss:  1118.6322\n",
      "---------------------------------------\n",
      "Trianing....Epoch:  4550 Loss:  677.00073\n",
      "Trianing....Epoch:  4600 Loss:  675.0196\n",
      "Trianing....Epoch:  4650 Loss:  673.38226\n",
      "Trianing....Epoch:  4700 Loss:  671.74695\n",
      "Trianing....Epoch:  4750 Loss:  670.2431\n",
      "Trianing....Epoch:  4800 Loss:  668.79395\n",
      "Trianing....Epoch:  4850 Loss:  667.20605\n",
      "Trianing....Epoch:  4900 Loss:  665.7499\n",
      "Trianing....Epoch:  4950 Loss:  664.42786\n",
      "Trianing....Epoch:  5000 Loss:  663.11816\n",
      "---------------------------------------\n",
      "Testing....Epoch:  5000 Loss:  1109.199\n",
      "---------------------------------------\n",
      "Trianing....Epoch:  5050 Loss:  662.2514\n",
      "Trianing....Epoch:  5100 Loss:  660.89557\n",
      "Trianing....Epoch:  5150 Loss:  659.92316\n",
      "Trianing....Epoch:  5200 Loss:  658.874\n",
      "Trianing....Epoch:  5250 Loss:  657.7217\n",
      "Trianing....Epoch:  5300 Loss:  656.6882\n",
      "Trianing....Epoch:  5350 Loss:  656.72754\n",
      "Trianing....Epoch:  5400 Loss:  654.29626\n",
      "Trianing....Epoch:  5450 Loss:  653.3075\n",
      "Trianing....Epoch:  5500 Loss:  652.3901\n",
      "---------------------------------------\n",
      "Testing....Epoch:  5500 Loss:  1102.7057\n",
      "---------------------------------------\n",
      "Trianing....Epoch:  5550 Loss:  651.5108\n",
      "Trianing....Epoch:  5600 Loss:  650.26697\n",
      "Trianing....Epoch:  5650 Loss:  649.07855\n",
      "Trianing....Epoch:  5700 Loss:  648.3969\n",
      "Trianing....Epoch:  5750 Loss:  647.4971\n",
      "Trianing....Epoch:  5800 Loss:  646.8083\n",
      "Trianing....Epoch:  5850 Loss:  646.0422\n",
      "Trianing....Epoch:  5900 Loss:  645.59125\n",
      "Trianing....Epoch:  5950 Loss:  644.7917\n",
      "Trianing....Epoch:  6000 Loss:  645.4636\n",
      "---------------------------------------\n",
      "Testing....Epoch:  6000 Loss:  1091.8633\n",
      "---------------------------------------\n",
      "Trianing....Epoch:  6050 Loss:  643.84644\n",
      "Trianing....Epoch:  6100 Loss:  643.1247\n",
      "Trianing....Epoch:  6150 Loss:  642.64374\n",
      "Trianing....Epoch:  6200 Loss:  642.20715\n",
      "Trianing....Epoch:  6250 Loss:  641.8077\n",
      "Trianing....Epoch:  6300 Loss:  643.92334\n",
      "Trianing....Epoch:  6350 Loss:  640.8844\n",
      "Trianing....Epoch:  6400 Loss:  640.6847\n",
      "Trianing....Epoch:  6450 Loss:  640.52783\n",
      "Trianing....Epoch:  6500 Loss:  639.9464\n",
      "---------------------------------------\n",
      "Testing....Epoch:  6500 Loss:  1086.6741\n",
      "---------------------------------------\n",
      "Trianing....Epoch:  6550 Loss:  640.3737\n",
      "Trianing....Epoch:  6600 Loss:  638.92255\n",
      "Trianing....Epoch:  6650 Loss:  638.56006\n",
      "Trianing....Epoch:  6700 Loss:  638.1663\n",
      "Trianing....Epoch:  6750 Loss:  637.7907\n",
      "Trianing....Epoch:  6800 Loss:  637.49774\n",
      "Trianing....Epoch:  6850 Loss:  637.1228\n",
      "Trianing....Epoch:  6900 Loss:  637.43805\n",
      "Trianing....Epoch:  6950 Loss:  636.7873\n",
      "Trianing....Epoch:  7000 Loss:  637.0859\n",
      "---------------------------------------\n",
      "Testing....Epoch:  7000 Loss:  1081.706\n",
      "---------------------------------------\n",
      "Trianing....Epoch:  7050 Loss:  636.13214\n",
      "Trianing....Epoch:  7100 Loss:  635.6933\n",
      "Trianing....Epoch:  7150 Loss:  635.5161\n",
      "Trianing....Epoch:  7200 Loss:  635.2016\n",
      "Trianing....Epoch:  7250 Loss:  635.0443\n",
      "Trianing....Epoch:  7300 Loss:  634.9354\n",
      "Trianing....Epoch:  7350 Loss:  634.56195\n",
      "Trianing....Epoch:  7400 Loss:  634.3655\n",
      "Trianing....Epoch:  7450 Loss:  642.1857\n",
      "Trianing....Epoch:  7500 Loss:  637.05884\n",
      "---------------------------------------\n",
      "Testing....Epoch:  7500 Loss:  1078.3877\n",
      "---------------------------------------\n",
      "Trianing....Epoch:  7550 Loss:  634.4696\n",
      "Trianing....Epoch:  7600 Loss:  633.67175\n",
      "Trianing....Epoch:  7650 Loss:  633.49524\n",
      "Trianing....Epoch:  7700 Loss:  633.36945\n",
      "Trianing....Epoch:  7750 Loss:  633.17706\n"
     ]
    },
    {
     "name": "stdout",
     "output_type": "stream",
     "text": [
      "Trianing....Epoch:  7800 Loss:  633.0286\n",
      "Trianing....Epoch:  7850 Loss:  632.90283\n",
      "Trianing....Epoch:  7900 Loss:  632.7299\n",
      "Trianing....Epoch:  7950 Loss:  632.83997\n",
      "Trianing....Epoch:  8000 Loss:  632.4459\n",
      "---------------------------------------\n",
      "Testing....Epoch:  8000 Loss:  1077.5686\n",
      "---------------------------------------\n",
      "Trianing....Epoch:  8050 Loss:  633.84393\n",
      "Trianing....Epoch:  8100 Loss:  632.30145\n",
      "Trianing....Epoch:  8150 Loss:  632.16473\n",
      "Trianing....Epoch:  8200 Loss:  632.04254\n",
      "Trianing....Epoch:  8250 Loss:  631.83575\n",
      "Trianing....Epoch:  8300 Loss:  631.6939\n",
      "Trianing....Epoch:  8350 Loss:  631.54785\n",
      "Trianing....Epoch:  8400 Loss:  631.80194\n",
      "Trianing....Epoch:  8450 Loss:  631.60345\n",
      "Trianing....Epoch:  8500 Loss:  631.0641\n",
      "---------------------------------------\n",
      "Testing....Epoch:  8500 Loss:  1071.9113\n",
      "---------------------------------------\n",
      "Trianing....Epoch:  8550 Loss:  631.13324\n",
      "Trianing....Epoch:  8600 Loss:  630.75037\n",
      "Trianing....Epoch:  8650 Loss:  630.59717\n",
      "Trianing....Epoch:  8700 Loss:  630.447\n",
      "Trianing....Epoch:  8750 Loss:  630.26917\n",
      "Trianing....Epoch:  8800 Loss:  630.41547\n",
      "Trianing....Epoch:  8850 Loss:  633.003\n",
      "Trianing....Epoch:  8900 Loss:  629.8124\n",
      "Trianing....Epoch:  8950 Loss:  630.26624\n",
      "Trianing....Epoch:  9000 Loss:  646.32245\n",
      "---------------------------------------\n",
      "Testing....Epoch:  9000 Loss:  1075.0981\n",
      "---------------------------------------\n",
      "Trianing....Epoch:  9050 Loss:  631.2016\n",
      "Trianing....Epoch:  9100 Loss:  629.42834\n",
      "Trianing....Epoch:  9150 Loss:  629.2841\n",
      "Trianing....Epoch:  9200 Loss:  629.12445\n",
      "Trianing....Epoch:  9250 Loss:  629.007\n",
      "Trianing....Epoch:  9300 Loss:  628.8548\n",
      "Trianing....Epoch:  9350 Loss:  628.77484\n",
      "Trianing....Epoch:  9400 Loss:  640.5842\n",
      "Trianing....Epoch:  9450 Loss:  628.53\n",
      "Trianing....Epoch:  9500 Loss:  628.5909\n",
      "---------------------------------------\n",
      "Testing....Epoch:  9500 Loss:  1070.3589\n",
      "---------------------------------------\n",
      "Trianing....Epoch:  9550 Loss:  628.68054\n",
      "Trianing....Epoch:  9600 Loss:  628.07947\n",
      "Trianing....Epoch:  9650 Loss:  628.00665\n",
      "Trianing....Epoch:  9700 Loss:  627.9002\n",
      "Trianing....Epoch:  9750 Loss:  638.12317\n",
      "Trianing....Epoch:  9800 Loss:  628.2669\n",
      "Trianing....Epoch:  9850 Loss:  628.23395\n",
      "Trianing....Epoch:  9900 Loss:  643.08075\n",
      "Trianing....Epoch:  9950 Loss:  627.6831\n",
      "Trianing....Epoch:  10000 Loss:  632.82416\n",
      "---------------------------------------\n",
      "Testing....Epoch:  10000 Loss:  1079.0929\n",
      "---------------------------------------\n"
     ]
    }
   ],
   "source": [
    "Trian_losses = []\n",
    "\n",
    "for epoch in range(EPOCH):\n",
    "    input_x = Variable(torch.FloatTensor(X_train_standard)) # 特征 array --> tensor --> Variable\n",
    "    input_y = Variable(torch.FloatTensor(y_train)) # 标签 将 array --> tensor --> Variable\n",
    "    \n",
    "    y_pred = net(input_x)\n",
    "    \n",
    "    loss = loss_func(input_y, y_pred)\n",
    "    Trian_losses.append(loss.data.numpy()) # 将 tensor 转成 numpy 的数值\n",
    "    \n",
    "    # 非常标准的一套流程\n",
    "    optimizer.zero_grad() # 梯度归 0\n",
    "    loss.backward() # 求梯度\n",
    "    optimizer.step() # 把新的梯度传进去\n",
    "    \n",
    "    # -------------------------------- #\n",
    "    if (epoch+1) % 50 == 0:\n",
    "        print('Trianing....Epoch: ', (epoch+1), 'Loss: ', loss.data.numpy())\n",
    "    \n",
    "    # ------------ 使用 测试集 去查看 测试集的 效果------------------#\n",
    "    # 每隔 500 个 epoch,就导入 测试集 去查看 模型 的效果\n",
    "    if (epoch+1) % 500 == 0:\n",
    "        test_x = Variable(torch.FloatTensor(X_test_standard)) # 特征 array --> tensor --> Variable\n",
    "        test_y = Variable(torch.FloatTensor(y_test)) # 标签 将 array --> tensor --> Variable\n",
    "\n",
    "        test_pred = net(test_x)\n",
    "\n",
    "        test_loss = loss_func(test_y, test_pred)\n",
    "\n",
    "        # 非常标准的一套流程\n",
    "        optimizer.zero_grad() # 梯度归 0\n",
    "        test_loss.backward() # 求梯度\n",
    "        optimizer.step() # 把新的梯度传进去\n",
    "        print('---------------------------------------')\n",
    "        print('Testing....Epoch: ', (epoch+1), 'Loss: ', test_loss.data.numpy())\n",
    "        print('---------------------------------------')"
   ]
  },
  {
   "cell_type": "markdown",
   "metadata": {},
   "source": [
    "## 让模型能够 收敛 的方法\n",
    "### 1、加大到 EPOCH\n",
    "### 2、减小学习率\n",
    "### 3、增加模型的复杂度，增加多一些网络层次，增加神经元个数"
   ]
  },
  {
   "cell_type": "markdown",
   "metadata": {},
   "source": [
    "## 验证模型的 好坏，可视化"
   ]
  },
  {
   "cell_type": "code",
   "execution_count": 20,
   "metadata": {},
   "outputs": [],
   "source": [
    "# 1、把 tensor 转为 array\n",
    "prediction = test_pred.data.numpy()"
   ]
  },
  {
   "cell_type": "code",
   "execution_count": 21,
   "metadata": {},
   "outputs": [
    {
     "data": {
      "text/plain": [
       "numpy.ndarray"
      ]
     },
     "execution_count": 21,
     "metadata": {},
     "output_type": "execute_result"
    }
   ],
   "source": [
    "type(prediction)"
   ]
  },
  {
   "cell_type": "code",
   "execution_count": 22,
   "metadata": {},
   "outputs": [],
   "source": [
    "from sklearn.metrics import mean_absolute_error\n",
    "from sklearn.metrics import mean_squared_error\n",
    "from sklearn.metrics import r2_score\n",
    "\n",
    "def caculate(y_true, y_predict):\n",
    "    print('MSE: ', mean_squared_error(y_true, y_predict))\n",
    "    print('RMSE: ', np.sqrt(mean_squared_error(y_true, y_predict)))\n",
    "    print('MAE: ', mean_absolute_error(y_true, y_predict))\n",
    "    print('R2: ', r2_score(y_true, y_predict))"
   ]
  },
  {
   "cell_type": "code",
   "execution_count": 23,
   "metadata": {},
   "outputs": [
    {
     "name": "stdout",
     "output_type": "stream",
     "text": [
      "MSE:  1079.0929\n",
      "RMSE:  32.84955\n",
      "MAE:  15.836557\n",
      "R2:  0.9990337038808349\n"
     ]
    }
   ],
   "source": [
    "caculate(y_test, prediction)"
   ]
  },
  {
   "cell_type": "code",
   "execution_count": 24,
   "metadata": {},
   "outputs": [
    {
     "data": {
      "image/png": "[encoded data removed]",
      "text/plain": [
       "<Figure size 432x288 with 1 Axes>"
      ]
     },
     "metadata": {
      "needs_background": "light"
     },
     "output_type": "display_data"
    }
   ],
   "source": [
    "plt.plot(range(len(prediction)), prediction, 'r--', label=\"prediction\")\n",
    "plt.plot(range(len(y_test)), y_test, 'b', label=\"true\")\n",
    "plt.legend()\n",
    "plt.show()"
   ]
  },
  {
   "cell_type": "code",
   "execution_count": null,
   "metadata": {},
   "outputs": [],
   "source": []
  }
 ],
 "metadata": {
  "kernelspec": {
   "display_name": "Python 3",
   "language": "python",
   "name": "python3"
  },
  "language_info": {
   "codemirror_mode": {
    "name": "ipython",
    "version": 3
   },
   "file_extension": ".py",
   "mimetype": "text/x-python",
   "name": "python",
   "nbconvert_exporter": "python",
   "pygments_lexer": "ipython3",
   "version": "3.5.6"
  }
 },
 "nbformat": 4,
 "nbformat_minor": 2
}
