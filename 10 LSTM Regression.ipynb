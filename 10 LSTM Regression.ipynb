{
 "cells": [
  {
   "cell_type": "markdown",
   "metadata": {},
   "source": [
    "### LSTM 单特征时间序列的分析"
   ]
  },
  {
   "cell_type": "code",
   "execution_count": 1,
   "metadata": {},
   "outputs": [],
   "source": [
    "import numpy as np\n",
    "import pandas as pd\n",
    "import matplotlib.pyplot as plt\n",
    "%matplotlib inline"
   ]
  },
  {
   "cell_type": "markdown",
   "metadata": {},
   "source": [
    "### 下载数据"
   ]
  },
  {
   "cell_type": "code",
   "execution_count": 2,
   "metadata": {},
   "outputs": [
    {
     "name": "stdout",
     "output_type": "stream",
     "text": [
      "Folder exists\n",
      "File exists\n"
     ]
    }
   ],
   "source": [
    "import os\n",
    "import requests\n",
    "\n",
    "DATASET_URL = 'https://raw.githubusercontent.com/ZhengDWu/NFSYSU-Wu-Zhan/master/dataset/dataset.csv' # the url of the dataset\n",
    "DATASET_PATH = './datasets' # save path\n",
    "\n",
    "def fetch_housing_data(dataset_url=DATASET_URL, dataset_path=DATASET_PATH):\n",
    "    ''' Downloads file from the url and save it as filename '''\n",
    "    # check if folder already exists\n",
    "    if not os.path.exists(dataset_path):\n",
    "        os.makedirs(dataset_path)\n",
    "    else:\n",
    "        print(\"Folder exists\")\n",
    "    # check if file already exists\n",
    "    dataset_file = os.path.join(dataset_path, \"dataset.csv\")\n",
    "    if not os.path.isfile(dataset_file):\n",
    "        print('Downloading File')\n",
    "        response = requests.get(dataset_url)\n",
    "        # Check if the response is ok (200)\n",
    "        if response.status_code == 200:\n",
    "            # Open file and write the content\n",
    "            with open(dataset_file,'wb') as file:\n",
    "                # A chunk of 128 bytes\n",
    "                for chunk in response:\n",
    "                    file.write(chunk)\n",
    "            print('Download finish...')\n",
    "    else:\n",
    "        print('File exists')\n",
    "\n",
    "fetch_housing_data()"
   ]
  },
  {
   "cell_type": "markdown",
   "metadata": {},
   "source": [
    "### 导入数据"
   ]
  },
  {
   "cell_type": "code",
   "execution_count": 3,
   "metadata": {},
   "outputs": [],
   "source": [
    "data_csv = pd.read_csv('./datasets/dataset.csv')"
   ]
  },
  {
   "cell_type": "code",
   "execution_count": 4,
   "metadata": {},
   "outputs": [
    {
     "data": {
      "text/html": [
       "<div>\n",
       "<style scoped>\n",
       "    .dataframe tbody tr th:only-of-type {\n",
       "        vertical-align: middle;\n",
       "    }\n",
       "\n",
       "    .dataframe tbody tr th {\n",
       "        vertical-align: top;\n",
       "    }\n",
       "\n",
       "    .dataframe thead th {\n",
       "        text-align: right;\n",
       "    }\n",
       "</style>\n",
       "<table border=\"1\" class=\"dataframe\">\n",
       "  <thead>\n",
       "    <tr style=\"text-align: right;\">\n",
       "      <th></th>\n",
       "      <th>Month</th>\n",
       "      <th>values</th>\n",
       "    </tr>\n",
       "  </thead>\n",
       "  <tbody>\n",
       "    <tr>\n",
       "      <th>0</th>\n",
       "      <td>Jan-49</td>\n",
       "      <td>112</td>\n",
       "    </tr>\n",
       "    <tr>\n",
       "      <th>1</th>\n",
       "      <td>Feb-49</td>\n",
       "      <td>118</td>\n",
       "    </tr>\n",
       "    <tr>\n",
       "      <th>2</th>\n",
       "      <td>Mar-49</td>\n",
       "      <td>132</td>\n",
       "    </tr>\n",
       "    <tr>\n",
       "      <th>3</th>\n",
       "      <td>Apr-49</td>\n",
       "      <td>129</td>\n",
       "    </tr>\n",
       "    <tr>\n",
       "      <th>4</th>\n",
       "      <td>May-49</td>\n",
       "      <td>121</td>\n",
       "    </tr>\n",
       "    <tr>\n",
       "      <th>5</th>\n",
       "      <td>Jun-49</td>\n",
       "      <td>135</td>\n",
       "    </tr>\n",
       "    <tr>\n",
       "      <th>6</th>\n",
       "      <td>Jul-49</td>\n",
       "      <td>148</td>\n",
       "    </tr>\n",
       "    <tr>\n",
       "      <th>7</th>\n",
       "      <td>Aug-49</td>\n",
       "      <td>148</td>\n",
       "    </tr>\n",
       "    <tr>\n",
       "      <th>8</th>\n",
       "      <td>Sep-49</td>\n",
       "      <td>136</td>\n",
       "    </tr>\n",
       "    <tr>\n",
       "      <th>9</th>\n",
       "      <td>Oct-49</td>\n",
       "      <td>119</td>\n",
       "    </tr>\n",
       "  </tbody>\n",
       "</table>\n",
       "</div>"
      ],
      "text/plain": [
       "    Month  values\n",
       "0  Jan-49     112\n",
       "1  Feb-49     118\n",
       "2  Mar-49     132\n",
       "3  Apr-49     129\n",
       "4  May-49     121\n",
       "5  Jun-49     135\n",
       "6  Jul-49     148\n",
       "7  Aug-49     148\n",
       "8  Sep-49     136\n",
       "9  Oct-49     119"
      ]
     },
     "execution_count": 4,
     "metadata": {},
     "output_type": "execute_result"
    }
   ],
   "source": [
    "data_csv.head(10)"
   ]
  },
  {
   "cell_type": "code",
   "execution_count": 5,
   "metadata": {},
   "outputs": [],
   "source": [
    "price = data_csv['values']"
   ]
  },
  {
   "cell_type": "code",
   "execution_count": 6,
   "metadata": {},
   "outputs": [
    {
     "data": {
      "text/plain": [
       "[<matplotlib.lines.Line2D at 0x290a4a84588>]"
      ]
     },
     "execution_count": 6,
     "metadata": {},
     "output_type": "execute_result"
    },
    {
     "data": {
      "image/png": "[encoded data removed]",
      "text/plain": [
       "<Figure size 432x288 with 1 Axes>"
      ]
     },
     "metadata": {
      "needs_background": "light"
     },
     "output_type": "display_data"
    }
   ],
   "source": [
    "plt.plot(range(len(price)), price)"
   ]
  },
  {
   "cell_type": "markdown",
   "metadata": {},
   "source": [
    "### data pre-processing"
   ]
  },
  {
   "cell_type": "code",
   "execution_count": 7,
   "metadata": {},
   "outputs": [],
   "source": [
    "dataset = price.values.reshape(-1, 1) # 将 pandas 的数据 转为 numpy 的，然后再将 标量 变成 矩阵"
   ]
  },
  {
   "cell_type": "code",
   "execution_count": 8,
   "metadata": {},
   "outputs": [
    {
     "data": {
      "text/plain": [
       "(144, 1)"
      ]
     },
     "execution_count": 8,
     "metadata": {},
     "output_type": "execute_result"
    }
   ],
   "source": [
    "dataset.shape"
   ]
  },
  {
   "cell_type": "markdown",
   "metadata": {},
   "source": [
    "### 对数据进行标准化，记住标准化后还要合并数据，后面再次切割 training set 和 testing set"
   ]
  },
  {
   "cell_type": "code",
   "execution_count": 9,
   "metadata": {},
   "outputs": [],
   "source": [
    "# 对数据进行 标准化，将最后 百分之20，作为 测试集 \n",
    "# 但是这里标准化后还是要合并，后续要给数据格式进行处理\n",
    "train_size = int(len(dataset) * 0.8)\n",
    "data_train = dataset[:train_size]\n",
    "data_test = dataset[train_size:]"
   ]
  },
  {
   "cell_type": "code",
   "execution_count": 10,
   "metadata": {},
   "outputs": [
    {
     "name": "stdout",
     "output_type": "stream",
     "text": [
      "the shape of dataset_standard is:  (144, 1)\n"
     ]
    },
    {
     "name": "stderr",
     "output_type": "stream",
     "text": [
      "c:\\users\\wuzhengdong\\appdata\\local\\continuum\\anaconda3\\envs\\wz\\lib\\site-packages\\sklearn\\utils\\validation.py:595: DataConversionWarning: Data with input dtype int64 was converted to float64 by StandardScaler.\n",
      "  warnings.warn(msg, DataConversionWarning)\n",
      "c:\\users\\wuzhengdong\\appdata\\local\\continuum\\anaconda3\\envs\\wz\\lib\\site-packages\\sklearn\\utils\\validation.py:595: DataConversionWarning: Data with input dtype int64 was converted to float64 by StandardScaler.\n",
      "  warnings.warn(msg, DataConversionWarning)\n",
      "c:\\users\\wuzhengdong\\appdata\\local\\continuum\\anaconda3\\envs\\wz\\lib\\site-packages\\sklearn\\utils\\validation.py:595: DataConversionWarning: Data with input dtype int64 was converted to float64 by StandardScaler.\n",
      "  warnings.warn(msg, DataConversionWarning)\n"
     ]
    }
   ],
   "source": [
    "from sklearn.preprocessing import StandardScaler\n",
    "\n",
    "standard = StandardScaler()\n",
    "standard.fit(data_train)\n",
    "\n",
    "data_train_standard = standard.transform(data_train)\n",
    "data_test_standard = standard.transform(data_test)\n",
    "\n",
    "# 合并\n",
    "dataset_standard = np.concatenate((data_train_standard, data_test_standard), axis=0)\n",
    "print('the shape of dataset_standard is: ', dataset_standard.shape)"
   ]
  },
  {
   "cell_type": "markdown",
   "metadata": {},
   "source": [
    "### 过去 7 天来预测 今天 (look_back 这个参数可以自己调)"
   ]
  },
  {
   "cell_type": "code",
   "execution_count": 11,
   "metadata": {},
   "outputs": [],
   "source": [
    "def create_dataset(dataset, look_back=7):\n",
    "    dataX, dataY = [], []\n",
    "    for i in range(len(dataset) - look_back):\n",
    "        a = dataset[i:(i + look_back)]\n",
    "        dataX.append(a)\n",
    "        dataY.append(dataset[i + look_back])\n",
    "    return np.array(dataX), np.array(dataY)"
   ]
  },
  {
   "cell_type": "code",
   "execution_count": 12,
   "metadata": {},
   "outputs": [],
   "source": [
    "data_X, data_Y = create_dataset(dataset_standard)"
   ]
  },
  {
   "cell_type": "code",
   "execution_count": 13,
   "metadata": {},
   "outputs": [
    {
     "data": {
      "text/plain": [
       "(137, 7, 1)"
      ]
     },
     "execution_count": 13,
     "metadata": {},
     "output_type": "execute_result"
    }
   ],
   "source": [
    "data_X.shape"
   ]
  },
  {
   "cell_type": "code",
   "execution_count": 14,
   "metadata": {},
   "outputs": [
    {
     "data": {
      "text/plain": [
       "(137, 1)"
      ]
     },
     "execution_count": 14,
     "metadata": {},
     "output_type": "execute_result"
    }
   ],
   "source": [
    "data_Y.shape"
   ]
  },
  {
   "cell_type": "code",
   "execution_count": 15,
   "metadata": {},
   "outputs": [],
   "source": [
    "# 划分训练集和测试集，80% 作为训练集\n",
    "train_size = int(len(data_X) * 0.8)\n",
    "test_size = len(data_X) - train_size\n",
    "train_X = data_X[:train_size]\n",
    "train_Y = data_Y[:train_size]\n",
    "test_X = data_X[train_size:]\n",
    "test_Y = data_Y[train_size:]"
   ]
  },
  {
   "cell_type": "code",
   "execution_count": 16,
   "metadata": {},
   "outputs": [],
   "source": [
    "import torch\n",
    "\n",
    "train_x = torch.FloatTensor(train_X)\n",
    "test_x = torch.FloatTensor(test_X)\n",
    "train_y = torch.FloatTensor(train_Y)\n",
    "test_y = torch.FloatTensor(test_Y)"
   ]
  },
  {
   "cell_type": "code",
   "execution_count": 17,
   "metadata": {},
   "outputs": [
    {
     "name": "stdout",
     "output_type": "stream",
     "text": [
      "the shape of train_x:  torch.Size([109, 7, 1])\n",
      "the shape of train_x:  torch.Size([28, 7, 1])\n",
      "the shape of train_x:  torch.Size([109, 1])\n",
      "the shape of train_x:  torch.Size([28, 1])\n"
     ]
    }
   ],
   "source": [
    "print('the shape of train_x: ', train_x.size())\n",
    "print('the shape of train_x: ', test_x.size())\n",
    "print('the shape of train_x: ', train_y.size())\n",
    "print('the shape of train_x: ', test_y.size())"
   ]
  },
  {
   "cell_type": "code",
   "execution_count": 18,
   "metadata": {},
   "outputs": [],
   "source": [
    "from torch import nn\n",
    "from torch.autograd import Variable"
   ]
  },
  {
   "cell_type": "markdown",
   "metadata": {},
   "source": [
    "### 设置超参数"
   ]
  },
  {
   "cell_type": "code",
   "execution_count": 19,
   "metadata": {},
   "outputs": [],
   "source": [
    "input_size = 1   # 输入数据 features 的个数\n",
    "hidden_size = 32 # 隐藏层中神经元的个数\n",
    "output_size = 1  # 输出神经元个数\n",
    "num_layers = 1   # lstm 的层数\n",
    "lr = 0.01        # 学习率\n",
    "EPOCH = 5000"
   ]
  },
  {
   "cell_type": "markdown",
   "metadata": {},
   "source": [
    "### 构建网络"
   ]
  },
  {
   "cell_type": "code",
   "execution_count": 20,
   "metadata": {},
   "outputs": [],
   "source": [
    "class LSTM(nn.Module):\n",
    "    def __init__(self):\n",
    "        super(LSTM, self).__init__()\n",
    "        self.rnn = nn.LSTM(input_size, hidden_size, num_layers, batch_first=True) # rnn\n",
    "        self.predict = nn.Linear(hidden_size, output_size) # 回归\n",
    "        \n",
    "    def forward(self, x):\n",
    "        x, (h,o) = self.rnn(x, None)\n",
    "        # 将最后一个时间片扔进 Linear\n",
    "        out = self.predict(x[:,-1,:])\n",
    "        return out"
   ]
  },
  {
   "cell_type": "code",
   "execution_count": 21,
   "metadata": {},
   "outputs": [
    {
     "data": {
      "text/plain": [
       "LSTM(\n",
       "  (rnn): LSTM(1, 32, batch_first=True)\n",
       "  (predict): Linear(in_features=32, out_features=1, bias=True)\n",
       ")"
      ]
     },
     "execution_count": 21,
     "metadata": {},
     "output_type": "execute_result"
    }
   ],
   "source": [
    "rnn = LSTM()\n",
    "rnn"
   ]
  },
  {
   "cell_type": "markdown",
   "metadata": {},
   "source": [
    "### 开始训练"
   ]
  },
  {
   "cell_type": "code",
   "execution_count": 22,
   "metadata": {},
   "outputs": [],
   "source": [
    "optimizer = torch.optim.Adam(rnn.parameters(), lr=lr)\n",
    "loss_func = nn.MSELoss()"
   ]
  },
  {
   "cell_type": "code",
   "execution_count": 23,
   "metadata": {
    "scrolled": true
   },
   "outputs": [
    {
     "name": "stdout",
     "output_type": "stream",
     "text": [
      "Training....  Epoch:  50 loss:  0.09002942\n",
      "Training....  Epoch:  100 loss:  0.048526917\n",
      "Test  Epoch:  100 Loss:  0.51181424\n",
      "Training....  Epoch:  150 loss:  0.046853125\n",
      "Training....  Epoch:  200 loss:  0.03247289\n",
      "Test  Epoch:  200 Loss:  0.31766173\n",
      "Training....  Epoch:  250 loss:  0.038417667\n",
      "Training....  Epoch:  300 loss:  0.027375633\n",
      "Test  Epoch:  300 Loss:  0.24807942\n",
      "Training....  Epoch:  350 loss:  0.02908796\n",
      "Training....  Epoch:  400 loss:  0.023585198\n",
      "Test  Epoch:  400 Loss:  0.23413335\n",
      "Training....  Epoch:  450 loss:  0.021565236\n",
      "Training....  Epoch:  500 loss:  0.016539814\n",
      "Test  Epoch:  500 Loss:  0.10416506\n",
      "Training....  Epoch:  550 loss:  0.015751254\n",
      "Training....  Epoch:  600 loss:  0.012876087\n",
      "Test  Epoch:  600 Loss:  0.08016425\n",
      "Training....  Epoch:  650 loss:  0.010696151\n",
      "Training....  Epoch:  700 loss:  0.008925519\n",
      "Test  Epoch:  700 Loss:  0.07159673\n",
      "Training....  Epoch:  750 loss:  0.007650498\n",
      "Training....  Epoch:  800 loss:  0.0058249757\n",
      "Test  Epoch:  800 Loss:  0.06610349\n",
      "Training....  Epoch:  850 loss:  0.004503786\n",
      "Training....  Epoch:  900 loss:  0.0028702167\n",
      "Test  Epoch:  900 Loss:  0.054647043\n",
      "Training....  Epoch:  950 loss:  0.0020727767\n",
      "Training....  Epoch:  1000 loss:  0.0016730987\n",
      "Test  Epoch:  1000 Loss:  0.042251974\n",
      "Training....  Epoch:  1050 loss:  0.0012951057\n",
      "Training....  Epoch:  1100 loss:  0.0012721973\n",
      "Test  Epoch:  1100 Loss:  0.03577578\n",
      "Training....  Epoch:  1150 loss:  0.0008979926\n",
      "Training....  Epoch:  1200 loss:  0.000678159\n",
      "Test  Epoch:  1200 Loss:  0.03200372\n",
      "Training....  Epoch:  1250 loss:  0.00060257065\n",
      "Training....  Epoch:  1300 loss:  0.0004118159\n",
      "Test  Epoch:  1300 Loss:  0.029184638\n",
      "Training....  Epoch:  1350 loss:  0.0003418028\n",
      "Training....  Epoch:  1400 loss:  0.00027008413\n",
      "Test  Epoch:  1400 Loss:  0.034105487\n",
      "Training....  Epoch:  1450 loss:  0.00023968462\n",
      "Training....  Epoch:  1500 loss:  0.0001056068\n",
      "Test  Epoch:  1500 Loss:  0.037605617\n",
      "Training....  Epoch:  1550 loss:  0.00023809061\n",
      "Training....  Epoch:  1600 loss:  0.00010918411\n",
      "Test  Epoch:  1600 Loss:  0.07859858\n",
      "Training....  Epoch:  1650 loss:  0.00058059266\n",
      "Training....  Epoch:  1700 loss:  0.00011136395\n",
      "Test  Epoch:  1700 Loss:  0.09264815\n",
      "Training....  Epoch:  1750 loss:  0.00034294833\n",
      "Training....  Epoch:  1800 loss:  7.2424795e-05\n",
      "Test  Epoch:  1800 Loss:  0.09283296\n",
      "Training....  Epoch:  1850 loss:  0.00019312881\n",
      "Training....  Epoch:  1900 loss:  4.1309708e-05\n",
      "Test  Epoch:  1900 Loss:  0.10784126\n",
      "Training....  Epoch:  1950 loss:  0.0016674877\n",
      "Training....  Epoch:  2000 loss:  0.00048340505\n",
      "Test  Epoch:  2000 Loss:  0.13494179\n",
      "Training....  Epoch:  2050 loss:  0.0017568055\n",
      "Training....  Epoch:  2100 loss:  0.0007279342\n",
      "Test  Epoch:  2100 Loss:  0.27130944\n",
      "Training....  Epoch:  2150 loss:  0.0018077011\n",
      "Training....  Epoch:  2200 loss:  0.0005261864\n",
      "Test  Epoch:  2200 Loss:  0.14647806\n",
      "Training....  Epoch:  2250 loss:  0.00113891\n",
      "Training....  Epoch:  2300 loss:  0.00056223426\n",
      "Test  Epoch:  2300 Loss:  0.16195805\n",
      "Training....  Epoch:  2350 loss:  0.00071354577\n",
      "Training....  Epoch:  2400 loss:  0.0003654056\n",
      "Test  Epoch:  2400 Loss:  0.15710486\n",
      "Training....  Epoch:  2450 loss:  0.0026428972\n",
      "Training....  Epoch:  2500 loss:  0.0006391007\n",
      "Test  Epoch:  2500 Loss:  0.062390033\n",
      "Training....  Epoch:  2550 loss:  0.00033868023\n",
      "Training....  Epoch:  2600 loss:  0.00015381014\n",
      "Test  Epoch:  2600 Loss:  0.1015609\n",
      "Training....  Epoch:  2650 loss:  0.0007517967\n",
      "Training....  Epoch:  2700 loss:  0.00019638108\n",
      "Test  Epoch:  2700 Loss:  0.076706715\n",
      "Training....  Epoch:  2750 loss:  0.0002682585\n",
      "Training....  Epoch:  2800 loss:  0.000108674736\n",
      "Test  Epoch:  2800 Loss:  0.061073817\n",
      "Training....  Epoch:  2850 loss:  0.00031314697\n",
      "Training....  Epoch:  2900 loss:  6.3932166e-05\n",
      "Test  Epoch:  2900 Loss:  0.048939187\n",
      "Training....  Epoch:  2950 loss:  0.00017924471\n",
      "Training....  Epoch:  3000 loss:  7.790504e-05\n",
      "Test  Epoch:  3000 Loss:  0.03652485\n",
      "Training....  Epoch:  3050 loss:  0.00018761236\n",
      "Training....  Epoch:  3100 loss:  5.89413e-05\n",
      "Test  Epoch:  3100 Loss:  0.03168256\n",
      "Training....  Epoch:  3150 loss:  6.837207e-05\n",
      "Training....  Epoch:  3200 loss:  2.1628119e-05\n",
      "Test  Epoch:  3200 Loss:  0.029575812\n",
      "Training....  Epoch:  3250 loss:  0.00011028246\n",
      "Training....  Epoch:  3300 loss:  3.284705e-05\n",
      "Test  Epoch:  3300 Loss:  0.0554728\n",
      "Training....  Epoch:  3350 loss:  0.00024872724\n",
      "Training....  Epoch:  3400 loss:  5.4249384e-05\n",
      "Test  Epoch:  3400 Loss:  0.03371384\n",
      "Training....  Epoch:  3450 loss:  4.94805e-05\n",
      "Training....  Epoch:  3500 loss:  1.4440127e-05\n",
      "Test  Epoch:  3500 Loss:  0.04006599\n",
      "Training....  Epoch:  3550 loss:  0.00016704643\n",
      "Training....  Epoch:  3600 loss:  3.891512e-05\n",
      "Test  Epoch:  3600 Loss:  0.059056565\n",
      "Training....  Epoch:  3650 loss:  0.0009222909\n",
      "Training....  Epoch:  3700 loss:  0.00019613194\n",
      "Test  Epoch:  3700 Loss:  0.11039031\n",
      "Training....  Epoch:  3750 loss:  0.00019804199\n",
      "Training....  Epoch:  3800 loss:  6.542591e-05\n",
      "Test  Epoch:  3800 Loss:  0.070061155\n",
      "Training....  Epoch:  3850 loss:  0.00013098298\n",
      "Training....  Epoch:  3900 loss:  4.556918e-05\n",
      "Test  Epoch:  3900 Loss:  0.04770088\n",
      "Training....  Epoch:  3950 loss:  9.143735e-05\n",
      "Training....  Epoch:  4000 loss:  2.0895386e-05\n",
      "Test  Epoch:  4000 Loss:  0.02724784\n",
      "Training....  Epoch:  4050 loss:  6.9797985e-05\n",
      "Training....  Epoch:  4100 loss:  1.9322328e-05\n",
      "Test  Epoch:  4100 Loss:  0.018488051\n",
      "Training....  Epoch:  4150 loss:  5.7494046e-05\n",
      "Training....  Epoch:  4200 loss:  1.6232836e-05\n",
      "Test  Epoch:  4200 Loss:  0.029332839\n",
      "Training....  Epoch:  4250 loss:  0.0002654027\n",
      "Training....  Epoch:  4300 loss:  7.28059e-05\n",
      "Test  Epoch:  4300 Loss:  0.097917795\n",
      "Training....  Epoch:  4350 loss:  0.00045550795\n",
      "Training....  Epoch:  4400 loss:  8.374558e-05\n",
      "Test  Epoch:  4400 Loss:  0.08970263\n",
      "Training....  Epoch:  4450 loss:  0.00017478706\n",
      "Training....  Epoch:  4500 loss:  5.7140885e-05\n",
      "Test  Epoch:  4500 Loss:  0.04341391\n",
      "Training....  Epoch:  4550 loss:  0.00013473842\n",
      "Training....  Epoch:  4600 loss:  2.3126573e-05\n",
      "Test  Epoch:  4600 Loss:  0.04306658\n",
      "Training....  Epoch:  4650 loss:  0.00015303702\n",
      "Training....  Epoch:  4700 loss:  4.3216765e-05\n",
      "Test  Epoch:  4700 Loss:  0.06353743\n",
      "Training....  Epoch:  4750 loss:  0.00017515363\n",
      "Training....  Epoch:  4800 loss:  2.575157e-05\n",
      "Test  Epoch:  4800 Loss:  0.057444308\n",
      "Training....  Epoch:  4850 loss:  0.000121213896\n",
      "Training....  Epoch:  4900 loss:  1.801322e-05\n",
      "Test  Epoch:  4900 Loss:  0.032771036\n",
      "Training....  Epoch:  4950 loss:  8.986476e-05\n",
      "Training....  Epoch:  5000 loss:  2.8209355e-05\n",
      "Test  Epoch:  5000 Loss:  0.041894477\n"
     ]
    }
   ],
   "source": [
    "train_loss = []\n",
    "test_loss = []\n",
    "\n",
    "for epoch in range(EPOCH):\n",
    "    var_x = Variable(train_x)\n",
    "    var_y = Variable(train_y)\n",
    "    \n",
    "    out = rnn(var_x)\n",
    "    trainloss = loss_func(out, var_y)\n",
    "\n",
    "    optimizer.zero_grad()\n",
    "    trainloss.backward()\n",
    "    optimizer.step()\n",
    "    \n",
    "    \n",
    "    if (epoch+1) % 50 == 0:\n",
    "        train_loss.append(trainloss.data.numpy())\n",
    "        print(\"Training.... \", 'Epoch: ', (epoch+1), 'loss: ', trainloss.data.numpy())\n",
    "    \n",
    "    # 使用测试集\n",
    "    if (epoch+1) % 100 == 0:\n",
    "        \n",
    "        var_test_x = Variable(test_x)\n",
    "        var_test_y = Variable(test_y)\n",
    "        y_predict = rnn(var_test_x)\n",
    "        testloss = loss_func(y_predict, var_test_y)\n",
    "        test_loss.append(testloss)\n",
    "        \n",
    "        optimizer.zero_grad()\n",
    "        testloss.backward()\n",
    "        optimizer.step()\n",
    "        \n",
    "        print('Test ', 'Epoch: ', (epoch+1), 'Loss: ', testloss.data.numpy())"
   ]
  },
  {
   "cell_type": "code",
   "execution_count": 24,
   "metadata": {},
   "outputs": [
    {
     "data": {
      "image/png": "[encoded data removed]",
      "text/plain": [
       "<Figure size 432x288 with 1 Axes>"
      ]
     },
     "metadata": {
      "needs_background": "light"
     },
     "output_type": "display_data"
    }
   ],
   "source": [
    "plt.plot(train_loss, 'r', label='trianing loss')\n",
    "plt.legend()\n",
    "plt.show()"
   ]
  },
  {
   "cell_type": "code",
   "execution_count": 25,
   "metadata": {},
   "outputs": [
    {
     "data": {
      "image/png": "[encoded data removed]",
      "text/plain": [
       "<Figure size 432x288 with 1 Axes>"
      ]
     },
     "metadata": {
      "needs_background": "light"
     },
     "output_type": "display_data"
    }
   ],
   "source": [
    "plt.plot(test_loss, 'r', label='testing loss')\n",
    "plt.legend()\n",
    "plt.show()"
   ]
  },
  {
   "cell_type": "markdown",
   "metadata": {},
   "source": [
    "#### Variable to tensor to numpy"
   ]
  },
  {
   "cell_type": "code",
   "execution_count": 26,
   "metadata": {},
   "outputs": [],
   "source": [
    "train_prediction = out.data.numpy()\n",
    "test_prediction = y_predict.data.numpy()"
   ]
  },
  {
   "cell_type": "code",
   "execution_count": 27,
   "metadata": {},
   "outputs": [],
   "source": [
    "# 合并\n",
    "prediction = np.vstack((train_prediction, test_prediction))"
   ]
  },
  {
   "cell_type": "code",
   "execution_count": 28,
   "metadata": {},
   "outputs": [],
   "source": [
    "from sklearn.metrics import r2_score\n",
    "from sklearn.metrics import mean_squared_error\n",
    "from sklearn.metrics import mean_absolute_error\n",
    "\n",
    "def calculate(y_true, y_predict):\n",
    "    print('MAE: ', mean_absolute_error(y_true, y_predict))\n",
    "    print('MSE: ', mean_squared_error(y_true, y_predict))\n",
    "    print('RMSE: ', np.sqrt(mean_squared_error(y_true, y_predict)))\n",
    "    print('R2: ', r2_score(y_true, y_predict))"
   ]
  },
  {
   "cell_type": "code",
   "execution_count": 29,
   "metadata": {},
   "outputs": [
    {
     "name": "stdout",
     "output_type": "stream",
     "text": [
      "标准化后的数据\n",
      "MAE:  0.03645578329220425\n",
      "MSE:  0.008584818489057023\n",
      "RMSE:  0.09265429557800882\n",
      "R2:  0.9948421507406293\n"
     ]
    }
   ],
   "source": [
    "print('标准化后的数据')\n",
    "calculate(data_Y, prediction)"
   ]
  },
  {
   "cell_type": "markdown",
   "metadata": {},
   "source": [
    "### 将所有数据都 反标准化"
   ]
  },
  {
   "cell_type": "code",
   "execution_count": 30,
   "metadata": {},
   "outputs": [
    {
     "name": "stdout",
     "output_type": "stream",
     "text": [
      "the shape of origin_dataset:  (137, 1)\n",
      "the shape of origin_prediction:  (137, 1)\n"
     ]
    }
   ],
   "source": [
    "origin_dataset = standard.inverse_transform(data_Y)\n",
    "origin_prediction = standard.inverse_transform(prediction)\n",
    "print('the shape of origin_dataset: ', origin_dataset.shape)\n",
    "print('the shape of origin_prediction: ', origin_prediction.shape)"
   ]
  },
  {
   "cell_type": "code",
   "execution_count": 31,
   "metadata": {},
   "outputs": [
    {
     "name": "stdout",
     "output_type": "stream",
     "text": [
      "反标准化变回原来数据:\n",
      "MAE:  3.3156450925952328\n",
      "MSE:  71.01240125004318\n",
      "RMSE:  8.426885619850502\n",
      "R2:  0.9948421507052588\n"
     ]
    }
   ],
   "source": [
    "print('反标准化变回原来数据:')\n",
    "calculate(origin_dataset, origin_prediction)"
   ]
  },
  {
   "cell_type": "code",
   "execution_count": 32,
   "metadata": {},
   "outputs": [
    {
     "data": {
      "image/png": "[encoded data removed]",
      "text/plain": [
       "<Figure size 432x288 with 1 Axes>"
      ]
     },
     "metadata": {
      "needs_background": "light"
     },
     "output_type": "display_data"
    }
   ],
   "source": [
    "plt.plot(origin_prediction, 'r', label='perdiction')\n",
    "plt.plot(origin_dataset, 'b', label='real')\n",
    "plt.legend(loc='best')\n",
    "plt.show()"
   ]
  },
  {
   "cell_type": "code",
   "execution_count": null,
   "metadata": {},
   "outputs": [],
   "source": []
  }
 ],
 "metadata": {
  "kernelspec": {
   "display_name": "Python 3",
   "language": "python",
   "name": "python3"
  },
  "language_info": {
   "codemirror_mode": {
    "name": "ipython",
    "version": 3
   },
   "file_extension": ".py",
   "mimetype": "text/x-python",
   "name": "python",
   "nbconvert_exporter": "python",
   "pygments_lexer": "ipython3",
   "version": "3.5.6"
  }
 },
 "nbformat": 4,
 "nbformat_minor": 2
}
