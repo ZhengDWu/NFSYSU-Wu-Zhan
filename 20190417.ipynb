{
 "cells": [
  {
   "cell_type": "markdown",
   "metadata": {},
   "source": [
    "## 全连接神经网络"
   ]
  },
  {
   "cell_type": "code",
   "execution_count": 1,
   "metadata": {},
   "outputs": [],
   "source": [
    "import torch\n",
    "import torch.nn as nn\n",
    "import torch.nn.functional as F\n",
    "from torch.autograd import Variable\n",
    "\n",
    "import numpy as np\n",
    "import matplotlib.pyplot as plt"
   ]
  },
  {
   "cell_type": "code",
   "execution_count": 8,
   "metadata": {},
   "outputs": [
    {
     "name": "stdout",
     "output_type": "stream",
     "text": [
      "Folder exists\n",
      "Downloading File\n",
      "Download finish...\n"
     ]
    }
   ],
   "source": [
    "import os\n",
    "import requests\n",
    "\n",
    "DATASET_URL = 'https://raw.githubusercontent.com/ZhengDWu/NFSYSU-Wu-Zhan/master/dataset/stock_2.csv' # the url of the dataset\n",
    "DATASET_PATH = './datasets' # save path\n",
    "\n",
    "def fetch_housing_data(dataset_url=DATASET_URL, dataset_path=DATASET_PATH):\n",
    "    ''' Downloads file from the url and save it as filename '''\n",
    "    # check if folder already exists\n",
    "    if not os.path.exists(dataset_path):\n",
    "        os.makedirs(dataset_path)\n",
    "    else:\n",
    "        print(\"Folder exists\")\n",
    "    # check if file already exists\n",
    "    dataset_file = os.path.join(dataset_path, \"stock_2.csv\")\n",
    "    if not os.path.isfile(dataset_file):\n",
    "        print('Downloading File')\n",
    "        response = requests.get(dataset_url)\n",
    "        # Check if the response is ok (200)\n",
    "        if response.status_code == 200:\n",
    "            # Open file and write the content\n",
    "            with open(dataset_file,'wb') as file:\n",
    "                # A chunk of 128 bytes\n",
    "                for chunk in response:\n",
    "                    file.write(chunk)\n",
    "            print('Download finish...')\n",
    "    else:\n",
    "        print('File exists')\n",
    "\n",
    "fetch_housing_data()"
   ]
  },
  {
   "cell_type": "markdown",
   "metadata": {},
   "source": [
    "### 导入数据"
   ]
  },
  {
   "cell_type": "code",
   "execution_count": 3,
   "metadata": {},
   "outputs": [],
   "source": [
    "import pandas as pd\n",
    "\n",
    "dataset = pd.read_csv('./dataset/stock_2.csv', delimiter=',', dtype='str')"
   ]
  },
  {
   "cell_type": "code",
   "execution_count": 4,
   "metadata": {
    "scrolled": true
   },
   "outputs": [
    {
     "data": {
      "text/html": [
       "<div>\n",
       "<style scoped>\n",
       "    .dataframe tbody tr th:only-of-type {\n",
       "        vertical-align: middle;\n",
       "    }\n",
       "\n",
       "    .dataframe tbody tr th {\n",
       "        vertical-align: top;\n",
       "    }\n",
       "\n",
       "    .dataframe thead th {\n",
       "        text-align: right;\n",
       "    }\n",
       "</style>\n",
       "<table border=\"1\" class=\"dataframe\">\n",
       "  <thead>\n",
       "    <tr style=\"text-align: right;\">\n",
       "      <th></th>\n",
       "      <th>index_code</th>\n",
       "      <th>date</th>\n",
       "      <th>open</th>\n",
       "      <th>close</th>\n",
       "      <th>low</th>\n",
       "      <th>high</th>\n",
       "      <th>volume</th>\n",
       "      <th>money</th>\n",
       "      <th>change</th>\n",
       "      <th>label</th>\n",
       "    </tr>\n",
       "  </thead>\n",
       "  <tbody>\n",
       "    <tr>\n",
       "      <th>0</th>\n",
       "      <td>sh000001</td>\n",
       "      <td>1990/12/20</td>\n",
       "      <td>104.3</td>\n",
       "      <td>104.39</td>\n",
       "      <td>99.98</td>\n",
       "      <td>104.39</td>\n",
       "      <td>197000</td>\n",
       "      <td>85000</td>\n",
       "      <td>0.044108822</td>\n",
       "      <td>109.13</td>\n",
       "    </tr>\n",
       "    <tr>\n",
       "      <th>1</th>\n",
       "      <td>sh000001</td>\n",
       "      <td>1990/12/21</td>\n",
       "      <td>109.07</td>\n",
       "      <td>109.13</td>\n",
       "      <td>103.73</td>\n",
       "      <td>109.13</td>\n",
       "      <td>28000</td>\n",
       "      <td>16100</td>\n",
       "      <td>0.045406648</td>\n",
       "      <td>114.55</td>\n",
       "    </tr>\n",
       "    <tr>\n",
       "      <th>2</th>\n",
       "      <td>sh000001</td>\n",
       "      <td>1990/12/24</td>\n",
       "      <td>113.57</td>\n",
       "      <td>114.55</td>\n",
       "      <td>109.13</td>\n",
       "      <td>114.55</td>\n",
       "      <td>32000</td>\n",
       "      <td>31100</td>\n",
       "      <td>0.049665537</td>\n",
       "      <td>120.25</td>\n",
       "    </tr>\n",
       "    <tr>\n",
       "      <th>3</th>\n",
       "      <td>sh000001</td>\n",
       "      <td>1990/12/25</td>\n",
       "      <td>120.09</td>\n",
       "      <td>120.25</td>\n",
       "      <td>114.55</td>\n",
       "      <td>120.25</td>\n",
       "      <td>15000</td>\n",
       "      <td>6500</td>\n",
       "      <td>0.04975993</td>\n",
       "      <td>125.27</td>\n",
       "    </tr>\n",
       "    <tr>\n",
       "      <th>4</th>\n",
       "      <td>sh000001</td>\n",
       "      <td>1990/12/26</td>\n",
       "      <td>125.27</td>\n",
       "      <td>125.27</td>\n",
       "      <td>120.25</td>\n",
       "      <td>125.27</td>\n",
       "      <td>100000</td>\n",
       "      <td>53700</td>\n",
       "      <td>0.041746362</td>\n",
       "      <td>125.28</td>\n",
       "    </tr>\n",
       "  </tbody>\n",
       "</table>\n",
       "</div>"
      ],
      "text/plain": [
       "  index_code        date    open   close     low    high  volume  money  \\\n",
       "0   sh000001  1990/12/20   104.3  104.39   99.98  104.39  197000  85000   \n",
       "1   sh000001  1990/12/21  109.07  109.13  103.73  109.13   28000  16100   \n",
       "2   sh000001  1990/12/24  113.57  114.55  109.13  114.55   32000  31100   \n",
       "3   sh000001  1990/12/25  120.09  120.25  114.55  120.25   15000   6500   \n",
       "4   sh000001  1990/12/26  125.27  125.27  120.25  125.27  100000  53700   \n",
       "\n",
       "        change   label  \n",
       "0  0.044108822  109.13  \n",
       "1  0.045406648  114.55  \n",
       "2  0.049665537  120.25  \n",
       "3   0.04975993  125.27  \n",
       "4  0.041746362  125.28  "
      ]
     },
     "execution_count": 4,
     "metadata": {},
     "output_type": "execute_result"
    }
   ],
   "source": [
    "dataset.head(5)"
   ]
  },
  {
   "cell_type": "markdown",
   "metadata": {},
   "source": [
    "## 第二种导入方式： numpy"
   ]
  },
  {
   "cell_type": "code",
   "execution_count": 6,
   "metadata": {},
   "outputs": [],
   "source": [
    "dataset_numpy = np.loadtxt('./dataset/stock_2.csv', delimiter=\",\", dtype='str')"
   ]
  },
  {
   "cell_type": "code",
   "execution_count": 7,
   "metadata": {},
   "outputs": [
    {
     "data": {
      "text/plain": [
       "array([['index_code', 'date', 'open', 'close', 'low', 'high', 'volume',\n",
       "        'money', 'change', 'label'],\n",
       "       ['sh000001', '1990/12/20', '104.3', '104.39', '99.98', '104.39',\n",
       "        '197000', '85000', '0.044108822', '109.13'],\n",
       "       ['sh000001', '1990/12/21', '109.07', '109.13', '103.73', '109.13',\n",
       "        '28000', '16100', '0.045406648', '114.55'],\n",
       "       ['sh000001', '1990/12/24', '113.57', '114.55', '109.13', '114.55',\n",
       "        '32000', '31100', '0.049665537', '120.25'],\n",
       "       ['sh000001', '1990/12/25', '120.09', '120.25', '114.55', '120.25',\n",
       "        '15000', '6500', '0.04975993', '125.27']], dtype='<U12')"
      ]
     },
     "execution_count": 7,
     "metadata": {},
     "output_type": "execute_result"
    }
   ],
   "source": [
    "dataset_numpy[:5,:]"
   ]
  },
  {
   "cell_type": "markdown",
   "metadata": {},
   "source": [
    "### 用 pandas 导入的数据来处理"
   ]
  },
  {
   "cell_type": "code",
   "execution_count": 9,
   "metadata": {},
   "outputs": [
    {
     "name": "stdout",
     "output_type": "stream",
     "text": [
      "<class 'pandas.core.frame.DataFrame'>\n",
      "RangeIndex: 6109 entries, 0 to 6108\n",
      "Data columns (total 10 columns):\n",
      "index_code    6109 non-null object\n",
      "date          6109 non-null object\n",
      "open          6109 non-null object\n",
      "close         6109 non-null object\n",
      "low           6109 non-null object\n",
      "high          6109 non-null object\n",
      "volume        6109 non-null object\n",
      "money         6109 non-null object\n",
      "change        6109 non-null object\n",
      "label         6109 non-null object\n",
      "dtypes: object(10)\n",
      "memory usage: 477.3+ KB\n"
     ]
    }
   ],
   "source": [
    "dataset.info()"
   ]
  },
  {
   "cell_type": "markdown",
   "metadata": {},
   "source": [
    "### pandas 转 numpy，网络只能输入矩阵，不能输入 pandas 的数据类型"
   ]
  },
  {
   "cell_type": "code",
   "execution_count": 10,
   "metadata": {},
   "outputs": [],
   "source": [
    "dataset_np = dataset.values"
   ]
  },
  {
   "cell_type": "code",
   "execution_count": 11,
   "metadata": {},
   "outputs": [
    {
     "data": {
      "text/plain": [
       "array([['sh000001', '1990/12/20', '104.3', '104.39', '99.98', '104.39',\n",
       "        '197000', '85000', '0.044108822', '109.13'],\n",
       "       ['sh000001', '1990/12/21', '109.07', '109.13', '103.73', '109.13',\n",
       "        '28000', '16100', '0.045406648', '114.55'],\n",
       "       ['sh000001', '1990/12/24', '113.57', '114.55', '109.13', '114.55',\n",
       "        '32000', '31100', '0.049665537', '120.25'],\n",
       "       ['sh000001', '1990/12/25', '120.09', '120.25', '114.55', '120.25',\n",
       "        '15000', '6500', '0.04975993', '125.27'],\n",
       "       ['sh000001', '1990/12/26', '125.27', '125.27', '120.25', '125.27',\n",
       "        '100000', '53700', '0.041746362', '125.28']], dtype=object)"
      ]
     },
     "execution_count": 11,
     "metadata": {},
     "output_type": "execute_result"
    }
   ],
   "source": [
    "dataset_np[:5,:] # 查看前面 5 行"
   ]
  },
  {
   "cell_type": "code",
   "execution_count": 12,
   "metadata": {},
   "outputs": [
    {
     "data": {
      "text/plain": [
       "(6109, 10)"
      ]
     },
     "execution_count": 12,
     "metadata": {},
     "output_type": "execute_result"
    }
   ],
   "source": [
    "dataset_np.shape"
   ]
  },
  {
   "cell_type": "code",
   "execution_count": 13,
   "metadata": {},
   "outputs": [
    {
     "data": {
      "text/plain": [
       "dtype('O')"
      ]
     },
     "execution_count": 13,
     "metadata": {},
     "output_type": "execute_result"
    }
   ],
   "source": [
    "dataset_np.dtype"
   ]
  },
  {
   "cell_type": "markdown",
   "metadata": {},
   "source": [
    "### 去掉 前面 两列"
   ]
  },
  {
   "cell_type": "code",
   "execution_count": 14,
   "metadata": {},
   "outputs": [],
   "source": [
    "dataset_array = dataset_np[:,2:] "
   ]
  },
  {
   "cell_type": "code",
   "execution_count": 15,
   "metadata": {},
   "outputs": [
    {
     "data": {
      "text/plain": [
       "(6109, 8)"
      ]
     },
     "execution_count": 15,
     "metadata": {},
     "output_type": "execute_result"
    }
   ],
   "source": [
    "dataset_array.shape"
   ]
  },
  {
   "cell_type": "code",
   "execution_count": 16,
   "metadata": {},
   "outputs": [
    {
     "data": {
      "text/plain": [
       "array([['104.3', '104.39', '99.98', '104.39', '197000', '85000',\n",
       "        '0.044108822', '109.13'],\n",
       "       ['109.07', '109.13', '103.73', '109.13', '28000', '16100',\n",
       "        '0.045406648', '114.55'],\n",
       "       ['113.57', '114.55', '109.13', '114.55', '32000', '31100',\n",
       "        '0.049665537', '120.25'],\n",
       "       ['120.09', '120.25', '114.55', '120.25', '15000', '6500',\n",
       "        '0.04975993', '125.27'],\n",
       "       ['125.27', '125.27', '120.25', '125.27', '100000', '53700',\n",
       "        '0.041746362', '125.28']], dtype=object)"
      ]
     },
     "execution_count": 16,
     "metadata": {},
     "output_type": "execute_result"
    }
   ],
   "source": [
    "dataset_array[:5,:]"
   ]
  },
  {
   "cell_type": "markdown",
   "metadata": {},
   "source": [
    "### 将 object 类型 强转 为 float32类型"
   ]
  },
  {
   "cell_type": "code",
   "execution_count": 17,
   "metadata": {},
   "outputs": [],
   "source": [
    "dataset_array = dataset_array.astype('float32')"
   ]
  },
  {
   "cell_type": "code",
   "execution_count": 18,
   "metadata": {},
   "outputs": [
    {
     "data": {
      "text/plain": [
       "dtype('float32')"
      ]
     },
     "execution_count": 18,
     "metadata": {},
     "output_type": "execute_result"
    }
   ],
   "source": [
    "dataset_array.dtype"
   ]
  },
  {
   "cell_type": "code",
   "execution_count": 19,
   "metadata": {},
   "outputs": [
    {
     "data": {
      "text/plain": [
       "(6109, 8)"
      ]
     },
     "execution_count": 19,
     "metadata": {},
     "output_type": "execute_result"
    }
   ],
   "source": [
    "dataset_array.shape"
   ]
  },
  {
   "cell_type": "code",
   "execution_count": 20,
   "metadata": {},
   "outputs": [
    {
     "data": {
      "text/plain": [
       "array([[1.0430000e+02, 1.0439000e+02, 9.9980003e+01, 1.0439000e+02,\n",
       "        1.9700000e+05, 8.5000000e+04, 4.4108823e-02, 1.0913000e+02],\n",
       "       [1.0907000e+02, 1.0913000e+02, 1.0373000e+02, 1.0913000e+02,\n",
       "        2.8000000e+04, 1.6100000e+04, 4.5406647e-02, 1.1455000e+02],\n",
       "       [1.1357000e+02, 1.1455000e+02, 1.0913000e+02, 1.1455000e+02,\n",
       "        3.2000000e+04, 3.1100000e+04, 4.9665537e-02, 1.2025000e+02],\n",
       "       [1.2009000e+02, 1.2025000e+02, 1.1455000e+02, 1.2025000e+02,\n",
       "        1.5000000e+04, 6.5000000e+03, 4.9759932e-02, 1.2527000e+02],\n",
       "       [1.2527000e+02, 1.2527000e+02, 1.2025000e+02, 1.2527000e+02,\n",
       "        1.0000000e+05, 5.3700000e+04, 4.1746363e-02, 1.2528000e+02]],\n",
       "      dtype=float32)"
      ]
     },
     "execution_count": 20,
     "metadata": {},
     "output_type": "execute_result"
    }
   ],
   "source": [
    "dataset_array[:5,:]"
   ]
  },
  {
   "cell_type": "markdown",
   "metadata": {},
   "source": [
    "### 把 X 和 y 给切出来"
   ]
  },
  {
   "cell_type": "code",
   "execution_count": 21,
   "metadata": {},
   "outputs": [],
   "source": [
    "X = dataset_array[:, :-1]\n",
    "y = dataset_array[:, -1:]"
   ]
  },
  {
   "cell_type": "code",
   "execution_count": 22,
   "metadata": {},
   "outputs": [
    {
     "name": "stdout",
     "output_type": "stream",
     "text": [
      "(6109, 7)\n",
      "(6109, 1)\n"
     ]
    }
   ],
   "source": [
    "print(X.shape)\n",
    "print(y.shape)"
   ]
  },
  {
   "cell_type": "markdown",
   "metadata": {},
   "source": [
    "### split training set and testing set"
   ]
  },
  {
   "cell_type": "code",
   "execution_count": 24,
   "metadata": {},
   "outputs": [],
   "source": [
    "from sklearn.model_selection import train_test_split\n",
    "\n",
    "X_train, X_test, y_train, y_test = train_test_split(X, y, test_size=0.2, random_state=19)"
   ]
  },
  {
   "cell_type": "markdown",
   "metadata": {},
   "source": [
    "### 标准化"
   ]
  },
  {
   "cell_type": "code",
   "execution_count": 25,
   "metadata": {},
   "outputs": [],
   "source": [
    "from sklearn.preprocessing import StandardScaler\n",
    "\n",
    "standard = StandardScaler()\n",
    "standard.fit(X_train)\n",
    "\n",
    "X_train_standard = standard.transform(X_train)\n",
    "X_test_standard = standard.transform(X_test)"
   ]
  },
  {
   "cell_type": "code",
   "execution_count": 26,
   "metadata": {},
   "outputs": [
    {
     "name": "stdout",
     "output_type": "stream",
     "text": [
      "(4887, 7)\n",
      "(1222, 7)\n"
     ]
    }
   ],
   "source": [
    "print(X_train_standard.shape)\n",
    "print(X_test_standard.shape)"
   ]
  },
  {
   "cell_type": "code",
   "execution_count": 27,
   "metadata": {},
   "outputs": [
    {
     "name": "stdout",
     "output_type": "stream",
     "text": [
      "(4887, 1)\n",
      "(1222, 1)\n"
     ]
    }
   ],
   "source": [
    "print(y_train.shape)\n",
    "print(y_test.shape)"
   ]
  },
  {
   "cell_type": "markdown",
   "metadata": {},
   "source": [
    "### 搭建模型---全连接神经网络"
   ]
  },
  {
   "cell_type": "code",
   "execution_count": 28,
   "metadata": {},
   "outputs": [],
   "source": [
    "class Net(nn.Module):\n",
    "    def __init__(self):\n",
    "        super(Net, self).__init__()\n",
    "        \n",
    "        # input shape: [-1, 7]\n",
    "        self.hidden1 = nn.Linear(7, 64) # [-1, 7] * [7, 64] = [-1, 64]\n",
    "        self.hidden2 = nn.Linear(64, 32) # [-1, 64] * [64, 32] = [-1, 32]\n",
    "        self.hidden3 = nn.Linear(32, 10) # [-1, 32] * [32, 10] = [-1, 10]\n",
    "        \n",
    "        # output layer\n",
    "        self.pred = nn.Linear(10, 1) # [-1, 10] * [10, 1] = [-1, 1]\n",
    "        \n",
    "    def forward(self, x):\n",
    "        \n",
    "        x = F.relu(self.hidden1(x)) # F.relu 激活函数，做非线性变换\n",
    "        x = F.relu(self.hidden2(x))\n",
    "        x = F.relu(self.hidden3(x))\n",
    "        out = self.pred(x)\n",
    "        \n",
    "        return out"
   ]
  },
  {
   "cell_type": "code",
   "execution_count": 29,
   "metadata": {},
   "outputs": [
    {
     "data": {
      "text/plain": [
       "Net(\n",
       "  (hidden1): Linear(in_features=7, out_features=64, bias=True)\n",
       "  (hidden2): Linear(in_features=64, out_features=32, bias=True)\n",
       "  (hidden3): Linear(in_features=32, out_features=10, bias=True)\n",
       "  (pred): Linear(in_features=10, out_features=1, bias=True)\n",
       ")"
      ]
     },
     "execution_count": 29,
     "metadata": {},
     "output_type": "execute_result"
    }
   ],
   "source": [
    "net = Net()\n",
    "net"
   ]
  },
  {
   "cell_type": "markdown",
   "metadata": {},
   "source": [
    "### gradient descent"
   ]
  },
  {
   "cell_type": "code",
   "execution_count": 30,
   "metadata": {},
   "outputs": [],
   "source": [
    "optimizer = torch.optim.Adam(net.parameters(), lr=0.01)\n",
    "loss_func = nn.MSELoss()"
   ]
  },
  {
   "cell_type": "markdown",
   "metadata": {},
   "source": [
    "### 训练神经网络"
   ]
  },
  {
   "cell_type": "code",
   "execution_count": 32,
   "metadata": {},
   "outputs": [
    {
     "name": "stdout",
     "output_type": "stream",
     "text": [
      "Epoch:  50 Loss:  620170.5\n",
      "Epoch:  100 Loss:  65354.62\n",
      "Epoch:  150 Loss:  18175.773\n",
      "Epoch:  200 Loss:  6535.317\n",
      "Epoch:  250 Loss:  3406.4531\n",
      "Epoch:  300 Loss:  2320.0774\n",
      "Epoch:  350 Loss:  1811.5177\n",
      "Epoch:  400 Loss:  1526.9849\n",
      "Epoch:  450 Loss:  1345.066\n",
      "Epoch:  500 Loss:  1222.3618\n",
      "Epoch:  550 Loss:  1137.8502\n",
      "Epoch:  600 Loss:  1079.0999\n",
      "Epoch:  650 Loss:  1033.4211\n",
      "Epoch:  700 Loss:  1004.6772\n",
      "Epoch:  750 Loss:  986.0038\n",
      "Epoch:  800 Loss:  971.4063\n",
      "Epoch:  850 Loss:  959.3853\n",
      "Epoch:  900 Loss:  948.88367\n",
      "Epoch:  950 Loss:  939.2487\n",
      "Epoch:  1000 Loss:  930.22296\n"
     ]
    }
   ],
   "source": [
    "EPOCH = 1000\n",
    "\n",
    "for epoch in range(EPOCH):\n",
    "    # 将 array to tensor\n",
    "    input_x = Variable(torch.FloatTensor(X_train_standard))\n",
    "    input_y = Variable(torch.FloatTensor(y_train))\n",
    "    \n",
    "    y_predict = net(input_x) # 把输入数据 扔进 神经网络 去 预测出一个值\n",
    "    \n",
    "    loss = loss_func(input_y, y_predict) # 计算 MSE\n",
    "    \n",
    "    optimizer.zero_grad() # 梯度归 0\n",
    "    loss.backward() # 反向传播，梯度下降\n",
    "    optimizer.step() # 找到新的 梯度\n",
    "    \n",
    "    if (epoch+1) % 50 == 0:\n",
    "        print('Epoch: ', (epoch+1), \"Loss: \", loss.data.numpy())"
   ]
  },
  {
   "cell_type": "markdown",
   "metadata": {},
   "source": [
    "### 用测试集预测结果"
   ]
  },
  {
   "cell_type": "code",
   "execution_count": null,
   "metadata": {},
   "outputs": [],
   "source": []
  }
 ],
 "metadata": {
  "kernelspec": {
   "display_name": "Python 3",
   "language": "python",
   "name": "python3"
  },
  "language_info": {
   "codemirror_mode": {
    "name": "ipython",
    "version": 3
   },
   "file_extension": ".py",
   "mimetype": "text/x-python",
   "name": "python",
   "nbconvert_exporter": "python",
   "pygments_lexer": "ipython3",
   "version": "3.5.6"
  }
 },
 "nbformat": 4,
 "nbformat_minor": 2
}
