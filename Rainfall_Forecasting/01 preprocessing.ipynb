{
 "cells": [
  {
   "cell_type": "markdown",
   "metadata": {},
   "source": [
    "### 将数据排成 7 天"
   ]
  },
  {
   "cell_type": "code",
   "execution_count": 1,
   "metadata": {},
   "outputs": [],
   "source": [
    "import os\n",
    "import numpy as np\n",
    "import pandas as pd"
   ]
  },
  {
   "cell_type": "code",
   "execution_count": 2,
   "metadata": {},
   "outputs": [
    {
     "data": {
      "text/plain": [
       "['./finish/United_States_Data/PRCP',\n",
       " './finish/United_States_Data/SNOW',\n",
       " './finish/United_States_Data/SNWD',\n",
       " './finish/United_States_Data/TMAX',\n",
       " './finish/United_States_Data/TMIN']"
      ]
     },
     "execution_count": 2,
     "metadata": {},
     "output_type": "execute_result"
    }
   ],
   "source": [
    "path = \"./finish/United_States_Data/\"\n",
    "typepath = []\n",
    "\n",
    "types = os.listdir(path)    \n",
    "for t in types:\n",
    "    typepath.append(os.path.join(path, t))\n",
    "typepath"
   ]
  },
  {
   "cell_type": "code",
   "execution_count": 3,
   "metadata": {},
   "outputs": [],
   "source": [
    "def root_create_dataset(dataset, look_back=7):\n",
    "    dataX, dataY = [], []\n",
    "    for i in range(len(dataset) - look_back):\n",
    "        a = dataset[i: (i + look_back)]\n",
    "        dataX.append(a)\n",
    "        dataY.append(dataset[i+look_back])\n",
    "    return np.array(dataX), np.array(dataY)"
   ]
  },
  {
   "cell_type": "code",
   "execution_count": 4,
   "metadata": {},
   "outputs": [],
   "source": [
    "def create_dataset(dataset, station, look_back=7):\n",
    "    dataX, dataY = [], []\n",
    "    for i in range(len(dataset) - look_back):\n",
    "        a = dataset[i: (i + look_back)]\n",
    "        dataX.append(a)\n",
    "        if station == \"USC00260795.csv\":\n",
    "            dataY.append(dataset[i+look_back])\n",
    "    return np.array(dataX), np.array(dataY)"
   ]
  },
  {
   "cell_type": "code",
   "execution_count": 5,
   "metadata": {},
   "outputs": [],
   "source": [
    "def mkdir(path):\n",
    "    if not os.path.exists(path):\n",
    "        os.makedirs(path)"
   ]
  },
  {
   "cell_type": "code",
   "execution_count": 6,
   "metadata": {},
   "outputs": [
    {
     "data": {
      "text/plain": [
       "['./finish/United_States_Data/PRCP',\n",
       " './finish/United_States_Data/SNOW',\n",
       " './finish/United_States_Data/SNWD',\n",
       " './finish/United_States_Data/TMAX',\n",
       " './finish/United_States_Data/TMIN']"
      ]
     },
     "execution_count": 6,
     "metadata": {},
     "output_type": "execute_result"
    }
   ],
   "source": [
    "typepath"
   ]
  },
  {
   "cell_type": "code",
   "execution_count": 7,
   "metadata": {
    "scrolled": true
   },
   "outputs": [],
   "source": [
    "def conbimeStation(path, savepath):\n",
    "    files = os.listdir(path)\n",
    "    files.remove('USC00260795.csv')\n",
    "    files.append('USC00260795.csv')\n",
    "    \n",
    "    filePath = os.path.join(path, files[0])\n",
    "    \n",
    "    dataset = np.loadtxt(filePath, delimiter=\",\", dtype=\"str\")[-365*5:, :]\n",
    "    origin_X, origin_Y = create_dataset(dataset[:, 1].astype(np.float32), files[0], look_back=7)\n",
    "    \n",
    "    year_X, year_Y = root_create_dataset(dataset[:, 0].astype(np.float32), look_back=7)\n",
    "    origin_X = np.c_[year_Y, origin_X]\n",
    "    \n",
    "    for i in range(1, len(files)):\n",
    "        filePath = os.path.join(path, files[i])\n",
    "        dataset = np.loadtxt(filePath, delimiter=\",\", dtype=\"str\")[-365*5:, 1].astype(np.float32)\n",
    "        data_X, data_Y = create_dataset(dataset, files[i], look_back=7)\n",
    "        try:\n",
    "            data_XY = np.c_[data_X, data_Y]\n",
    "        except:\n",
    "            data_XY = data_X\n",
    "#         print(origin_X.shape)\n",
    "        origin_X = np.c_[origin_X, data_XY]\n",
    "    savefile = savepath + '/' + 'save.csv'\n",
    "    mkdir(savepath)\n",
    "    print('Start to save the file ')\n",
    "    np.savetxt(savefile, origin_X, delimiter=\",\")\n",
    "    print('Finishing...')\n",
    "    print(origin_X.shape)"
   ]
  },
  {
   "cell_type": "code",
   "execution_count": 8,
   "metadata": {},
   "outputs": [
    {
     "data": {
      "text/plain": [
       "['./finish/U1_save_five_years\\\\PRCP',\n",
       " './finish/U1_save_five_years\\\\SNOW',\n",
       " './finish/U1_save_five_years\\\\SNWD',\n",
       " './finish/U1_save_five_years\\\\TMAX',\n",
       " './finish/U1_save_five_years\\\\TMIN']"
      ]
     },
     "execution_count": 8,
     "metadata": {},
     "output_type": "execute_result"
    }
   ],
   "source": [
    "savepath = './finish/U1_save_five_years'\n",
    "saveType = []\n",
    "\n",
    "for s in types:\n",
    "    saveType.append(os.path.join(savepath, s))\n",
    "saveType"
   ]
  },
  {
   "cell_type": "code",
   "execution_count": 9,
   "metadata": {
    "scrolled": false
   },
   "outputs": [
    {
     "name": "stdout",
     "output_type": "stream",
     "text": [
      "Starting the programme\n",
      "Start to save the file \n",
      "Finishing...\n",
      "(1818, 471)\n",
      "Starting the programme\n",
      "Start to save the file \n",
      "Finishing...\n",
      "(1818, 408)\n",
      "Starting the programme\n",
      "Start to save the file \n",
      "Finishing...\n",
      "(1818, 471)\n",
      "Starting the programme\n",
      "Start to save the file \n",
      "Finishing...\n",
      "(1818, 415)\n",
      "Starting the programme\n",
      "Start to save the file \n",
      "Finishing...\n",
      "(1818, 415)\n"
     ]
    }
   ],
   "source": [
    "for (p, y) in zip(typepath, saveType):\n",
    "    print('Starting the programme')\n",
    "    conbimeStation(p, y)"
   ]
  },
  {
   "cell_type": "code",
   "execution_count": null,
   "metadata": {},
   "outputs": [],
   "source": []
  }
 ],
 "metadata": {
  "kernelspec": {
   "display_name": "Python 3",
   "language": "python",
   "name": "python3"
  },
  "language_info": {
   "codemirror_mode": {
    "name": "ipython",
    "version": 3
   },
   "file_extension": ".py",
   "mimetype": "text/x-python",
   "name": "python",
   "nbconvert_exporter": "python",
   "pygments_lexer": "ipython3",
   "version": "3.5.6"
  }
 },
 "nbformat": 4,
 "nbformat_minor": 2
}
