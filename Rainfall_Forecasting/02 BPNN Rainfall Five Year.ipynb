{
 "cells": [
  {
   "cell_type": "code",
   "execution_count": 1,
   "metadata": {},
   "outputs": [],
   "source": [
    "import numpy as np\n",
    "import matplotlib.pyplot as plt"
   ]
  },
  {
   "cell_type": "code",
   "execution_count": 5,
   "metadata": {},
   "outputs": [],
   "source": [
    "import os\n",
    "\n",
    "PATH = './finish/U1_save_five_years/PRCP/'\n",
    "FILEPATH = os.listdir(PATH)"
   ]
  },
  {
   "cell_type": "code",
   "execution_count": 6,
   "metadata": {},
   "outputs": [
    {
     "data": {
      "text/plain": [
       "['save.csv']"
      ]
     },
     "execution_count": 6,
     "metadata": {},
     "output_type": "execute_result"
    }
   ],
   "source": [
    "FILEPATH"
   ]
  },
  {
   "cell_type": "code",
   "execution_count": 8,
   "metadata": {},
   "outputs": [],
   "source": [
    "file = os.path.join(PATH, FILEPATH[0])"
   ]
  },
  {
   "cell_type": "code",
   "execution_count": 9,
   "metadata": {},
   "outputs": [
    {
     "data": {
      "text/plain": [
       "'./finish/U1_save_five_years/PRCP/save.csv'"
      ]
     },
     "execution_count": 9,
     "metadata": {},
     "output_type": "execute_result"
    }
   ],
   "source": [
    "file"
   ]
  },
  {
   "cell_type": "code",
   "execution_count": 16,
   "metadata": {},
   "outputs": [],
   "source": [
    "dataset = np.loadtxt(file, delimiter=',', dtype='float')"
   ]
  },
  {
   "cell_type": "code",
   "execution_count": 18,
   "metadata": {},
   "outputs": [],
   "source": [
    "dataset = dataset[:, 1:]"
   ]
  },
  {
   "cell_type": "code",
   "execution_count": 19,
   "metadata": {},
   "outputs": [
    {
     "data": {
      "text/plain": [
       "(1818, 470)"
      ]
     },
     "execution_count": 19,
     "metadata": {},
     "output_type": "execute_result"
    }
   ],
   "source": [
    "dataset.shape"
   ]
  },
  {
   "cell_type": "code",
   "execution_count": 20,
   "metadata": {},
   "outputs": [],
   "source": [
    "X = dataset[:, :-1]\n",
    "y = dataset[:, -1:]"
   ]
  },
  {
   "cell_type": "code",
   "execution_count": 21,
   "metadata": {},
   "outputs": [
    {
     "name": "stdout",
     "output_type": "stream",
     "text": [
      "(1818, 469)\n",
      "(1818, 1)\n"
     ]
    }
   ],
   "source": [
    "print(X.shape)\n",
    "print(y.shape)"
   ]
  },
  {
   "cell_type": "code",
   "execution_count": 22,
   "metadata": {},
   "outputs": [
    {
     "name": "stdout",
     "output_type": "stream",
     "text": [
      "float64\n",
      "float64\n"
     ]
    }
   ],
   "source": [
    "print(X.dtype)\n",
    "print(y.dtype)"
   ]
  },
  {
   "cell_type": "code",
   "execution_count": 23,
   "metadata": {},
   "outputs": [],
   "source": [
    "from sklearn.model_selection import train_test_split\n",
    "\n",
    "X_train, X_test, y_train, y_test = train_test_split(X, y, test_size=0.2, random_state=19)"
   ]
  },
  {
   "cell_type": "code",
   "execution_count": 24,
   "metadata": {},
   "outputs": [],
   "source": [
    "from sklearn.preprocessing import StandardScaler\n",
    "\n",
    "standard = StandardScaler()\n",
    "standard.fit(X_train)\n",
    "X_train_standard = standard.transform(X_train)\n",
    "X_test_standard = standard.transform(X_test)"
   ]
  },
  {
   "cell_type": "code",
   "execution_count": 25,
   "metadata": {},
   "outputs": [],
   "source": [
    "input_size = X.shape[1]\n",
    "LR = 1e-2"
   ]
  },
  {
   "cell_type": "code",
   "execution_count": 26,
   "metadata": {},
   "outputs": [],
   "source": [
    "import torch\n",
    "import torch.nn as nn\n",
    "from torch.autograd import Variable\n",
    "\n",
    "class Net(nn.Module):\n",
    "    def __init__(self):\n",
    "        super(Net, self).__init__()\n",
    "        \n",
    "        self.hidden1 = nn.Sequential(\n",
    "            nn.Linear(input_size, 128),\n",
    "            nn.ReLU(True)\n",
    "        )\n",
    "        \n",
    "        self.hidden2 = nn.Sequential(\n",
    "            nn.Linear(128, 64),\n",
    "            nn.ReLU(True)\n",
    "        )\n",
    "        \n",
    "        self.hidden3 = nn.Sequential(\n",
    "            nn.Linear(64, 32),\n",
    "            nn.ReLU(True)\n",
    "        )\n",
    "        \n",
    "        self.pred = nn.Sequential(\n",
    "            nn.Linear(32, 1),\n",
    "#             nn.ReLU(True)\n",
    "        )\n",
    "        \n",
    "    def forward(self, x):\n",
    "        x = self.hidden1(x)\n",
    "        x = self.hidden2(x)\n",
    "        x = self.hidden3(x)\n",
    "        \n",
    "        out = self.pred(x)\n",
    "        \n",
    "        return out"
   ]
  },
  {
   "cell_type": "code",
   "execution_count": 27,
   "metadata": {
    "scrolled": true
   },
   "outputs": [
    {
     "data": {
      "text/plain": [
       "Net(\n",
       "  (hidden1): Sequential(\n",
       "    (0): Linear(in_features=469, out_features=128, bias=True)\n",
       "    (1): ReLU(inplace)\n",
       "  )\n",
       "  (hidden2): Sequential(\n",
       "    (0): Linear(in_features=128, out_features=64, bias=True)\n",
       "    (1): ReLU(inplace)\n",
       "  )\n",
       "  (hidden3): Sequential(\n",
       "    (0): Linear(in_features=64, out_features=32, bias=True)\n",
       "    (1): ReLU(inplace)\n",
       "  )\n",
       "  (pred): Sequential(\n",
       "    (0): Linear(in_features=32, out_features=1, bias=True)\n",
       "  )\n",
       ")"
      ]
     },
     "execution_count": 27,
     "metadata": {},
     "output_type": "execute_result"
    }
   ],
   "source": [
    "net = Net()\n",
    "net"
   ]
  },
  {
   "cell_type": "code",
   "execution_count": 28,
   "metadata": {},
   "outputs": [],
   "source": [
    "optimizer = torch.optim.Adam(net.parameters(), lr=LR)\n",
    "loss_func = nn.MSELoss()"
   ]
  },
  {
   "cell_type": "code",
   "execution_count": 38,
   "metadata": {
    "scrolled": true
   },
   "outputs": [
    {
     "name": "stdout",
     "output_type": "stream",
     "text": [
      "Eopch:  10 Loss:  0.06685522\n",
      "Eopch:  20 Loss:  0.06685476\n",
      "Eopch:  30 Loss:  0.066854395\n",
      "Eopch:  40 Loss:  0.06685408\n",
      "Eopch:  50 Loss:  0.0668538\n",
      "Eopch:  60 Loss:  0.06685354\n",
      "Eopch:  70 Loss:  0.06685331\n",
      "Eopch:  80 Loss:  0.0668531\n",
      "Eopch:  90 Loss:  0.06685291\n",
      "Eopch:  100 Loss:  0.06685274\n",
      "Eopch:  110 Loss:  0.06685258\n",
      "Eopch:  120 Loss:  0.066852435\n",
      "Eopch:  130 Loss:  0.0668523\n",
      "Eopch:  140 Loss:  0.066852175\n",
      "Eopch:  150 Loss:  0.06685206\n",
      "Eopch:  160 Loss:  0.06685195\n",
      "Eopch:  170 Loss:  0.066851854\n",
      "Eopch:  180 Loss:  0.066851765\n",
      "Eopch:  190 Loss:  0.06685168\n",
      "Eopch:  200 Loss:  0.0668516\n",
      "Eopch:  210 Loss:  0.06685153\n",
      "Eopch:  220 Loss:  0.06685145\n",
      "Eopch:  230 Loss:  0.0668514\n",
      "Eopch:  240 Loss:  0.06685201\n",
      "Eopch:  250 Loss:  0.06698861\n",
      "Eopch:  260 Loss:  0.12950349\n",
      "Eopch:  270 Loss:  1.8676311\n",
      "Eopch:  280 Loss:  0.4080698\n",
      "Eopch:  290 Loss:  0.068943985\n",
      "Eopch:  300 Loss:  0.19042236\n",
      "Eopch:  310 Loss:  0.18061873\n",
      "Eopch:  320 Loss:  0.1749862\n",
      "Eopch:  330 Loss:  0.17009784\n",
      "Eopch:  340 Loss:  0.16626725\n",
      "Eopch:  350 Loss:  0.16411452\n",
      "Eopch:  360 Loss:  0.1633723\n",
      "Eopch:  370 Loss:  0.16310742\n",
      "Eopch:  380 Loss:  0.16271612\n",
      "Eopch:  390 Loss:  0.16229567\n",
      "Eopch:  400 Loss:  0.16186008\n",
      "Eopch:  410 Loss:  0.1613595\n",
      "Eopch:  420 Loss:  0.16078728\n",
      "Eopch:  430 Loss:  0.16016793\n",
      "Eopch:  440 Loss:  0.15941842\n",
      "Eopch:  450 Loss:  0.15854913\n",
      "Eopch:  460 Loss:  0.1575038\n",
      "Eopch:  470 Loss:  0.1563313\n",
      "Eopch:  480 Loss:  0.15486\n",
      "Eopch:  490 Loss:  0.15333354\n",
      "Eopch:  500 Loss:  0.15131009\n",
      "Eopch:  510 Loss:  0.14933294\n",
      "Eopch:  520 Loss:  0.15177913\n",
      "Eopch:  530 Loss:  0.1443466\n",
      "Eopch:  540 Loss:  0.14222081\n",
      "Eopch:  550 Loss:  0.137088\n",
      "Eopch:  560 Loss:  0.13425249\n",
      "Eopch:  570 Loss:  0.12867887\n",
      "Eopch:  580 Loss:  0.12642606\n",
      "Eopch:  590 Loss:  0.122259855\n",
      "Eopch:  600 Loss:  0.11768185\n",
      "Eopch:  610 Loss:  0.112426236\n",
      "Eopch:  620 Loss:  0.1417868\n",
      "Eopch:  630 Loss:  0.114644304\n",
      "Eopch:  640 Loss:  0.10039147\n",
      "Eopch:  650 Loss:  0.09671633\n",
      "Eopch:  660 Loss:  0.10448255\n",
      "Eopch:  670 Loss:  0.9287185\n",
      "Eopch:  680 Loss:  0.6278749\n",
      "Eopch:  690 Loss:  0.7506293\n",
      "Eopch:  700 Loss:  0.4671107\n",
      "Eopch:  710 Loss:  0.27583915\n",
      "Eopch:  720 Loss:  0.13757174\n",
      "Eopch:  730 Loss:  0.08957552\n",
      "Eopch:  740 Loss:  0.07927366\n",
      "Eopch:  750 Loss:  0.071121186\n",
      "Eopch:  760 Loss:  0.06494944\n",
      "Eopch:  770 Loss:  0.06054919\n",
      "Eopch:  780 Loss:  0.05708416\n",
      "Eopch:  790 Loss:  0.05786725\n",
      "Eopch:  800 Loss:  0.053211246\n",
      "Eopch:  810 Loss:  0.049856823\n",
      "Eopch:  820 Loss:  0.047890455\n",
      "Eopch:  830 Loss:  0.04609398\n",
      "Eopch:  840 Loss:  0.044664506\n",
      "Eopch:  850 Loss:  0.048396103\n",
      "Eopch:  860 Loss:  0.31012264\n",
      "Eopch:  870 Loss:  0.3266557\n",
      "Eopch:  880 Loss:  0.29862547\n",
      "Eopch:  890 Loss:  0.038760845\n",
      "Eopch:  900 Loss:  0.06414405\n",
      "Eopch:  910 Loss:  0.04821778\n",
      "Eopch:  920 Loss:  0.034937896\n",
      "Eopch:  930 Loss:  0.035906203\n",
      "Eopch:  940 Loss:  0.03306811\n",
      "Eopch:  950 Loss:  0.032475144\n",
      "Eopch:  960 Loss:  0.03158715\n",
      "Eopch:  970 Loss:  0.030818205\n",
      "Eopch:  980 Loss:  0.030236602\n",
      "Eopch:  990 Loss:  0.029623196\n",
      "Eopch:  1000 Loss:  0.029066043\n"
     ]
    }
   ],
   "source": [
    "EPOCH = 1000\n",
    "Train_loss = []\n",
    "Test_loss = []\n",
    "\n",
    "for epoch in range(EPOCH):\n",
    "    input_x = Variable(torch.FloatTensor(X_train_standard))\n",
    "    input_y = Variable(torch.FloatTensor(y_train))\n",
    "    \n",
    "    out = net(input_x)\n",
    "    train_loss = loss_func(out, input_y)\n",
    "    \n",
    "    optimizer.zero_grad()\n",
    "    train_loss.backward()\n",
    "    optimizer.step()\n",
    "    \n",
    "    if (epoch+1) % 10 == 0:\n",
    "        print('Eopch: ', (epoch+1), 'Loss: ', train_loss.data.numpy())"
   ]
  },
  {
   "cell_type": "code",
   "execution_count": 39,
   "metadata": {},
   "outputs": [],
   "source": [
    "test_x = Variable(torch.FloatTensor(X_test_standard))\n",
    "test_y = Variable(torch.FloatTensor(y_test))\n",
    "\n",
    "test_out = net(test_x)\n",
    "\n",
    "test_loss = loss_func(test_out, test_y)"
   ]
  },
  {
   "cell_type": "code",
   "execution_count": 40,
   "metadata": {},
   "outputs": [
    {
     "data": {
      "text/plain": [
       "array(665.301, dtype=float32)"
      ]
     },
     "execution_count": 40,
     "metadata": {},
     "output_type": "execute_result"
    }
   ],
   "source": [
    "test_loss.data.numpy()"
   ]
  },
  {
   "cell_type": "code",
   "execution_count": 41,
   "metadata": {},
   "outputs": [],
   "source": [
    "# tensor to array\n",
    "predcition = test_out.data.numpy()"
   ]
  },
  {
   "cell_type": "code",
   "execution_count": 45,
   "metadata": {},
   "outputs": [
    {
     "data": {
      "image/png": "[encoded data removed]",
      "text/plain": [
       "<Figure size 432x288 with 1 Axes>"
      ]
     },
     "metadata": {
      "needs_background": "light"
     },
     "output_type": "display_data"
    }
   ],
   "source": [
    "plt.plot(range(len(predcition)), predcition, 'ro', label=\"prediciton\")\n",
    "plt.plot(range(len(y_test)), y_test, 'bo', label='true')\n",
    "plt.legend()\n",
    "plt.show()"
   ]
  },
  {
   "cell_type": "code",
   "execution_count": 43,
   "metadata": {},
   "outputs": [],
   "source": [
    "from sklearn.metrics import mean_squared_error\n",
    "from sklearn.metrics import r2_score"
   ]
  },
  {
   "cell_type": "code",
   "execution_count": 44,
   "metadata": {},
   "outputs": [
    {
     "data": {
      "text/plain": [
       "-0.33457634022751614"
      ]
     },
     "execution_count": 44,
     "metadata": {},
     "output_type": "execute_result"
    }
   ],
   "source": [
    "r2_score(y_test, predcition)"
   ]
  },
  {
   "cell_type": "code",
   "execution_count": null,
   "metadata": {},
   "outputs": [],
   "source": []
  }
 ],
 "metadata": {
  "kernelspec": {
   "display_name": "Python 3",
   "language": "python",
   "name": "python3"
  },
  "language_info": {
   "codemirror_mode": {
    "name": "ipython",
    "version": 3
   },
   "file_extension": ".py",
   "mimetype": "text/x-python",
   "name": "python",
   "nbconvert_exporter": "python",
   "pygments_lexer": "ipython3",
   "version": "3.5.6"
  }
 },
 "nbformat": 4,
 "nbformat_minor": 2
}
