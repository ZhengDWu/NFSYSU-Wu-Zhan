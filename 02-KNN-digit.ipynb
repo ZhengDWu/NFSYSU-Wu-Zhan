{
 "cells": [
  {
   "cell_type": "markdown",
   "metadata": {},
   "source": [
    "## KNN(K-Nearest Neighbors) K近邻算法 实现 手写 数据集的 分类问题"
   ]
  },
  {
   "cell_type": "code",
   "execution_count": 1,
   "metadata": {},
   "outputs": [],
   "source": [
    "import numpy as np\n",
    "from sklearn import datasets # 导入 sklearn 已有的数据集"
   ]
  },
  {
   "cell_type": "markdown",
   "metadata": {},
   "source": [
    "### step1:导入 手写数据集(digits) 数据集"
   ]
  },
  {
   "cell_type": "code",
   "execution_count": 2,
   "metadata": {},
   "outputs": [],
   "source": [
    "digit = datasets.load_digits()\n",
    "\n",
    "# 引入 特征 和 label\n",
    "X = digit.data\n",
    "y = digit.target"
   ]
  },
  {
   "cell_type": "markdown",
   "metadata": {},
   "source": [
    "### step2: 分析数据的信息"
   ]
  },
  {
   "cell_type": "code",
   "execution_count": 3,
   "metadata": {},
   "outputs": [
    {
     "name": "stdout",
     "output_type": "stream",
     "text": [
      "the shape of X is:  (1797, 64)\n",
      "the shape of y is: (1797,)\n",
      "-----------------------------\n",
      "the type of X is:  float64\n",
      "the type of y is:  int32\n"
     ]
    }
   ],
   "source": [
    "print(\"the shape of X is: \", X.shape)\n",
    "print(\"the shape of y is:\", y.shape)\n",
    "print('-----------------------------')\n",
    "print('the type of X is: ', X.dtype)\n",
    "print('the type of y is: ', y.dtype)"
   ]
  },
  {
   "cell_type": "code",
   "execution_count": 4,
   "metadata": {
    "scrolled": true
   },
   "outputs": [
    {
     "name": "stdout",
     "output_type": "stream",
     "text": [
      ".. _digits_dataset:\n",
      "\n",
      "Optical recognition of handwritten digits dataset\n",
      "--------------------------------------------------\n",
      "\n",
      "**Data Set Characteristics:**\n",
      "\n",
      "    :Number of Instances: 5620\n",
      "    :Number of Attributes: 64\n",
      "    :Attribute Information: 8x8 image of integer pixels in the range 0..16.\n",
      "    :Missing Attribute Values: None\n",
      "    :Creator: E. Alpaydin (alpaydin '@' boun.edu.tr)\n",
      "    :Date: July; 1998\n",
      "\n",
      "This is a copy of the test set of the UCI ML hand-written digits datasets\n",
      "http://archive.ics.uci.edu/ml/datasets/Optical+Recognition+of+Handwritten+Digits\n",
      "\n",
      "The data set contains images of hand-written digits: 10 classes where\n",
      "each class refers to a digit.\n",
      "\n",
      "Preprocessing programs made available by NIST were used to extract\n",
      "normalized bitmaps of handwritten digits from a preprinted form. From a\n",
      "total of 43 people, 30 contributed to the training set and different 13\n",
      "to the test set. 32x32 bitmaps are divided into nonoverlapping blocks of\n",
      "4x4 and the number of on pixels are counted in each block. This generates\n",
      "an input matrix of 8x8 where each element is an integer in the range\n",
      "0..16. This reduces dimensionality and gives invariance to small\n",
      "distortions.\n",
      "\n",
      "For info on NIST preprocessing routines, see M. D. Garris, J. L. Blue, G.\n",
      "T. Candela, D. L. Dimmick, J. Geist, P. J. Grother, S. A. Janet, and C.\n",
      "L. Wilson, NIST Form-Based Handprint Recognition System, NISTIR 5469,\n",
      "1994.\n",
      "\n",
      ".. topic:: References\n",
      "\n",
      "  - C. Kaynak (1995) Methods of Combining Multiple Classifiers and Their\n",
      "    Applications to Handwritten Digit Recognition, MSc Thesis, Institute of\n",
      "    Graduate Studies in Science and Engineering, Bogazici University.\n",
      "  - E. Alpaydin, C. Kaynak (1998) Cascading Classifiers, Kybernetika.\n",
      "  - Ken Tang and Ponnuthurai N. Suganthan and Xi Yao and A. Kai Qin.\n",
      "    Linear dimensionalityreduction using relevance weighted LDA. School of\n",
      "    Electrical and Electronic Engineering Nanyang Technological University.\n",
      "    2005.\n",
      "  - Claudio Gentile. A New Approximate Maximal Margin Classification\n",
      "    Algorithm. NIPS. 2000.\n"
     ]
    }
   ],
   "source": [
    "# 查看 iris 数据信息\n",
    "print(digit.DESCR)"
   ]
  },
  {
   "cell_type": "code",
   "execution_count": 5,
   "metadata": {},
   "outputs": [
    {
     "data": {
      "text/plain": [
       "<Figure size 640x480 with 1 Axes>"
      ]
     },
     "metadata": {},
     "output_type": "display_data"
    }
   ],
   "source": [
    "# 可视化 第一张图片 的样子\n",
    "import matplotlib.pyplot as plt\n",
    "import matplotlib\n",
    "\n",
    "digit_image = X[777].reshape(8, 8) # 这里要将 64 维 的图片 转为 (8, 8) 的图片\n",
    "plt.imshow(digit_image, cmap=matplotlib.cm.binary)\n",
    "plt.show()"
   ]
  },
  {
   "cell_type": "code",
   "execution_count": 6,
   "metadata": {},
   "outputs": [
    {
     "data": {
      "text/plain": [
       "array([ 0.,  0.,  0., 12., 13.,  5.,  0.,  0.,  0.,  0.,  0., 11., 16.,\n",
       "        9.,  0.,  0.,  0.,  0.,  3., 15., 16.,  6.,  0.,  0.,  0.,  7.,\n",
       "       15., 16., 16.,  2.,  0.,  0.,  0.,  0.,  1., 16., 16.,  3.,  0.,\n",
       "        0.,  0.,  0.,  1., 16., 16.,  6.,  0.,  0.,  0.,  0.,  1., 16.,\n",
       "       16.,  6.,  0.,  0.,  0.,  0.,  0., 11., 16., 10.,  0.,  0.])"
      ]
     },
     "execution_count": 6,
     "metadata": {},
     "output_type": "execute_result"
    }
   ],
   "source": [
    "# 查看 第一张图片 怎么以数据的形式展示\n",
    "X[1]"
   ]
  },
  {
   "cell_type": "code",
   "execution_count": 7,
   "metadata": {},
   "outputs": [
    {
     "data": {
      "text/plain": [
       "array([[ 0.,  0.,  0., 12., 13.,  5.,  0.,  0.],\n",
       "       [ 0.,  0.,  0., 11., 16.,  9.,  0.,  0.],\n",
       "       [ 0.,  0.,  3., 15., 16.,  6.,  0.,  0.],\n",
       "       [ 0.,  7., 15., 16., 16.,  2.,  0.,  0.],\n",
       "       [ 0.,  0.,  1., 16., 16.,  3.,  0.,  0.],\n",
       "       [ 0.,  0.,  1., 16., 16.,  6.,  0.,  0.],\n",
       "       [ 0.,  0.,  1., 16., 16.,  6.,  0.,  0.],\n",
       "       [ 0.,  0.,  0., 11., 16., 10.,  0.,  0.]])"
      ]
     },
     "execution_count": 7,
     "metadata": {},
     "output_type": "execute_result"
    }
   ],
   "source": [
    "X[1].reshape(8, 8)"
   ]
  },
  {
   "cell_type": "markdown",
   "metadata": {},
   "source": [
    "## 通过上面的分析，我们可以知道，怎么将现实中的东西以数据的形式表示\n",
    "### 下面开始我们 KNN 模型的 实例 \n",
    "### step3：将数据切分为 训练集 和 测试集"
   ]
  },
  {
   "cell_type": "code",
   "execution_count": 8,
   "metadata": {},
   "outputs": [],
   "source": [
    "# 分割数据集\n",
    "from sklearn.model_selection import train_test_split\n",
    "\n",
    "# test_size 是切分多少给测试集， random_state 是随机种子,生成伪随机数\n",
    "X_train, X_test, y_train, y_test = train_test_split(X, y, test_size=0.2, random_state=19)"
   ]
  },
  {
   "cell_type": "markdown",
   "metadata": {},
   "source": [
    "### step 4: 标准化"
   ]
  },
  {
   "cell_type": "code",
   "execution_count": 9,
   "metadata": {},
   "outputs": [],
   "source": [
    "from sklearn.preprocessing import StandardScaler\n",
    "\n",
    "standard = StandardScaler()\n",
    "standard.fit(X_train)\n",
    "X_train_standard = standard.transform(X_train)\n",
    "X_test_standard = standard.transform(X_test)"
   ]
  },
  {
   "cell_type": "code",
   "execution_count": 10,
   "metadata": {},
   "outputs": [
    {
     "name": "stdout",
     "output_type": "stream",
     "text": [
      "the shape of X_train:  (1437, 64)\n",
      "the shape of y_train:  (1437,)\n",
      "--------------------------------------\n",
      "the shape of X_test:  (360, 64)\n",
      "the shape of y_test:  (360,)\n"
     ]
    }
   ],
   "source": [
    "# 查看分割后的 训练集 和 测试集 的信息\n",
    "print(\"the shape of X_train: \", X_train_standard.shape)\n",
    "print('the shape of y_train: ', y_train.shape)\n",
    "print('--------------------------------------')\n",
    "print('the shape of X_test: ', X_test_standard.shape)\n",
    "print('the shape of y_test: ', y_test.shape)"
   ]
  },
  {
   "cell_type": "markdown",
   "metadata": {},
   "source": [
    "### step5: 调用 sklearn 中的 KNN 算法"
   ]
  },
  {
   "cell_type": "code",
   "execution_count": 11,
   "metadata": {},
   "outputs": [],
   "source": [
    "from sklearn.neighbors import KNeighborsClassifier\n",
    "\n",
    "# 面对对象方法，创建实例\n",
    "# 设置 k 为 3\n",
    "knn_clf = KNeighborsClassifier(n_neighbors=3)"
   ]
  },
  {
   "cell_type": "code",
   "execution_count": 12,
   "metadata": {},
   "outputs": [
    {
     "data": {
      "text/plain": [
       "KNeighborsClassifier(algorithm='auto', leaf_size=30, metric='minkowski',\n",
       "           metric_params=None, n_jobs=None, n_neighbors=3, p=2,\n",
       "           weights='uniform')"
      ]
     },
     "execution_count": 12,
     "metadata": {},
     "output_type": "execute_result"
    }
   ],
   "source": [
    "# 训练\n",
    "knn_clf.fit(X_train_standard, y_train)"
   ]
  },
  {
   "cell_type": "markdown",
   "metadata": {},
   "source": [
    "#### step6: 直接调用 score， 默认是计算精确度 accuracy"
   ]
  },
  {
   "cell_type": "code",
   "execution_count": 13,
   "metadata": {},
   "outputs": [
    {
     "data": {
      "text/plain": [
       "0.9805555555555555"
      ]
     },
     "execution_count": 13,
     "metadata": {},
     "output_type": "execute_result"
    }
   ],
   "source": [
    "score = knn_clf.score(X_test_standard, y_test)\n",
    "score"
   ]
  },
  {
   "cell_type": "code",
   "execution_count": 14,
   "metadata": {},
   "outputs": [
    {
     "data": {
      "text/plain": [
       "array([7, 4, 7, 0, 5, 5, 3, 5, 7, 2, 4, 8, 8, 0, 3, 0, 2, 8, 2, 3, 0, 9,\n",
       "       1, 1, 7, 4, 1, 1, 7, 5, 4, 6, 2, 7, 5, 9, 0, 3, 7, 6, 9, 6, 1, 3,\n",
       "       2, 4, 0, 8, 9, 4, 1, 7, 3, 9, 7, 5, 4, 2, 7, 9, 3, 4, 6, 7, 7, 8,\n",
       "       4, 8, 1, 5, 7, 8, 3, 6, 9, 8, 3, 5, 4, 2, 9, 8, 9, 3, 8, 5, 6, 2,\n",
       "       2, 4, 1, 1, 5, 5, 3, 8, 2, 5, 3, 0, 3, 5, 3, 9, 1, 0, 2, 4, 3, 8,\n",
       "       4, 4, 9, 6, 1, 1, 8, 0, 6, 5, 8, 5, 1, 1, 6, 1, 0, 4, 3, 2, 8, 3,\n",
       "       9, 3, 7, 2, 8, 7, 7, 4, 0, 1, 5, 0, 6, 0, 2, 4, 2, 6, 3, 1, 3, 0,\n",
       "       2, 9, 9, 9, 7, 1, 8, 4, 1, 4, 5, 9, 1, 0, 6, 4, 1, 8, 3, 4, 0, 3,\n",
       "       0, 9, 1, 5, 6, 0, 5, 2, 8, 9, 5, 2, 7, 4, 2, 7, 6, 9, 2, 8, 6, 6,\n",
       "       5, 4, 6, 7, 0, 5, 9, 3, 9, 2, 7, 6, 8, 9, 0, 6, 7, 2, 6, 1, 4, 1,\n",
       "       7, 1, 2, 0, 5, 0, 3, 0, 2, 2, 7, 4, 6, 8, 6, 6, 5, 8, 9, 5, 7, 6,\n",
       "       7, 0, 5, 1, 3, 7, 2, 7, 9, 8, 3, 7, 3, 2, 9, 1, 1, 1, 4, 2, 2, 7,\n",
       "       3, 9, 7, 8, 6, 0, 8, 3, 3, 9, 9, 1, 5, 0, 6, 6, 6, 5, 8, 7, 7, 4,\n",
       "       6, 1, 8, 5, 3, 1, 2, 4, 7, 4, 9, 9, 5, 6, 6, 9, 0, 3, 3, 3, 8, 2,\n",
       "       1, 7, 6, 3, 1, 0, 5, 8, 0, 7, 0, 0, 3, 3, 4, 1, 0, 0, 3, 4, 3, 7,\n",
       "       2, 2, 2, 2, 1, 6, 8, 5, 0, 1, 3, 6, 2, 1, 7, 9, 0, 2, 1, 2, 1, 6,\n",
       "       7, 6, 2, 7, 7, 5, 5, 2])"
      ]
     },
     "execution_count": 14,
     "metadata": {},
     "output_type": "execute_result"
    }
   ],
   "source": [
    "prediction = knn_clf.predict(X_test_standard)\n",
    "prediction # 预测值"
   ]
  },
  {
   "cell_type": "code",
   "execution_count": 15,
   "metadata": {},
   "outputs": [
    {
     "data": {
      "text/plain": [
       "array([7, 4, 7, 0, 5, 5, 3, 5, 7, 2, 4, 8, 8, 0, 3, 0, 2, 8, 2, 3, 0, 9,\n",
       "       1, 1, 7, 4, 8, 8, 7, 5, 4, 6, 2, 7, 5, 9, 0, 3, 7, 6, 9, 6, 1, 3,\n",
       "       2, 4, 0, 8, 9, 4, 1, 7, 3, 9, 7, 5, 4, 2, 7, 9, 3, 4, 6, 7, 7, 8,\n",
       "       4, 8, 1, 5, 7, 8, 3, 6, 9, 8, 3, 5, 4, 2, 9, 8, 9, 3, 8, 5, 6, 2,\n",
       "       2, 4, 1, 1, 5, 5, 3, 8, 2, 5, 3, 0, 3, 5, 3, 9, 1, 0, 2, 4, 3, 8,\n",
       "       4, 4, 9, 6, 1, 1, 8, 0, 6, 5, 8, 5, 1, 1, 6, 1, 0, 4, 3, 2, 8, 3,\n",
       "       9, 3, 7, 2, 8, 7, 7, 4, 0, 1, 5, 0, 6, 0, 2, 4, 2, 6, 3, 1, 3, 0,\n",
       "       2, 9, 9, 9, 7, 1, 8, 4, 1, 4, 5, 9, 1, 0, 6, 4, 1, 8, 3, 4, 0, 3,\n",
       "       0, 9, 1, 5, 6, 0, 9, 2, 8, 9, 5, 2, 7, 4, 2, 7, 6, 9, 3, 8, 6, 6,\n",
       "       5, 4, 6, 7, 0, 5, 9, 3, 9, 2, 7, 6, 8, 9, 0, 6, 7, 2, 6, 1, 4, 1,\n",
       "       7, 1, 2, 0, 5, 0, 3, 0, 2, 2, 7, 4, 6, 8, 6, 6, 5, 8, 9, 5, 7, 6,\n",
       "       7, 0, 5, 1, 3, 7, 2, 7, 9, 8, 3, 7, 3, 2, 9, 1, 1, 1, 4, 2, 2, 7,\n",
       "       3, 9, 7, 8, 6, 0, 8, 3, 3, 9, 9, 1, 5, 0, 6, 6, 9, 5, 8, 7, 7, 4,\n",
       "       6, 1, 8, 5, 3, 1, 2, 4, 7, 4, 9, 9, 5, 6, 6, 9, 0, 3, 3, 3, 8, 2,\n",
       "       1, 7, 6, 3, 1, 0, 5, 8, 0, 7, 0, 0, 3, 3, 4, 1, 0, 0, 3, 9, 3, 7,\n",
       "       2, 2, 2, 2, 1, 6, 8, 5, 0, 1, 3, 6, 2, 1, 7, 9, 0, 2, 1, 2, 9, 6,\n",
       "       7, 6, 2, 7, 7, 5, 5, 2])"
      ]
     },
     "execution_count": 15,
     "metadata": {},
     "output_type": "execute_result"
    }
   ],
   "source": [
    "y_test # 真实值"
   ]
  },
  {
   "cell_type": "markdown",
   "metadata": {},
   "source": [
    "#### 也可以调用 sklearn 中的 accuracy 来计算"
   ]
  },
  {
   "cell_type": "code",
   "execution_count": 16,
   "metadata": {},
   "outputs": [
    {
     "data": {
      "text/plain": [
       "0.9805555555555555"
      ]
     },
     "execution_count": 16,
     "metadata": {},
     "output_type": "execute_result"
    }
   ],
   "source": [
    "from sklearn.metrics import accuracy_score\n",
    "\n",
    "accuracy_score(prediction, y_test)"
   ]
  },
  {
   "cell_type": "markdown",
   "metadata": {},
   "source": [
    "## 很明显这个 digits 数据集获得的 accuracy 比 鸢尾花数据集要低，通过遍历来查找最优的 K\n",
    "### step6:便利查找最好的超参数"
   ]
  },
  {
   "cell_type": "code",
   "execution_count": 17,
   "metadata": {},
   "outputs": [],
   "source": [
    "def find_best_K(k_range):\n",
    "    best_score = 0.0\n",
    "    for i in range(1, k_range):\n",
    "        knn_clf = KNeighborsClassifier(n_neighbors=i)\n",
    "        knn_clf.fit(X_train_standard, y_train)\n",
    "        score = knn_clf.score(X_test_standard, y_test)\n",
    "        if score > best_score:\n",
    "            best_score = score\n",
    "            best_k = i\n",
    "    \n",
    "    return best_score, best_k"
   ]
  },
  {
   "cell_type": "code",
   "execution_count": 18,
   "metadata": {},
   "outputs": [
    {
     "name": "stdout",
     "output_type": "stream",
     "text": [
      "best score:  0.9805555555555555\n",
      "best k:  3\n"
     ]
    }
   ],
   "source": [
    "best_score, best_k = find_best_K(10)\n",
    "print('best score: ', best_score)\n",
    "print('best k: ', best_k)"
   ]
  },
  {
   "cell_type": "markdown",
   "metadata": {},
   "source": [
    "### 考虑距离(权重)，在 sklearn 中已经封装好了 是否 考虑距离这个参数，我们可以直接调用"
   ]
  },
  {
   "cell_type": "code",
   "execution_count": 19,
   "metadata": {},
   "outputs": [],
   "source": [
    "def find_best_K_method(k_range):\n",
    "    distance_method = \"\" # 因为这里它使用 str 来传入是否考虑的\n",
    "    best_score = 0.0\n",
    "    for d in ['uniform', 'distance']: # uniform 是不考虑， distance 是考虑\n",
    "        for i in range(1, k_range):\n",
    "            knn_clf = KNeighborsClassifier(n_neighbors=i, weights=d)\n",
    "            knn_clf.fit(X_train, y_train)\n",
    "            score = knn_clf.score(X_test, y_test)\n",
    "            if score > best_score:\n",
    "                best_score = score\n",
    "                best_k = i\n",
    "                distance_method = d\n",
    "    \n",
    "    return best_score, best_k, distance_method"
   ]
  },
  {
   "cell_type": "code",
   "execution_count": 20,
   "metadata": {},
   "outputs": [
    {
     "name": "stdout",
     "output_type": "stream",
     "text": [
      "best score:  0.9861111111111112\n",
      "best K:  3\n",
      "best method:  uniform\n"
     ]
    }
   ],
   "source": [
    "best_score2, best_k2, distance_method = find_best_K_method(10)\n",
    "print('best score: ', best_score2)\n",
    "print('best K: ', best_k2)\n",
    "print('best method: ', distance_method)"
   ]
  },
  {
   "cell_type": "markdown",
   "metadata": {},
   "source": [
    "### 考虑 p"
   ]
  },
  {
   "cell_type": "code",
   "execution_count": 21,
   "metadata": {},
   "outputs": [],
   "source": [
    "def find_best_K_method_p(k_range, ps):\n",
    "    distance_method = \"\" # 因为这里它使用 str 来传入是否考虑的\n",
    "    best_score = 0.0\n",
    "    best_p = 0.0\n",
    "    for p in range(1, ps):\n",
    "        for d in ['uniform', 'distance']: # uniform 是不考虑， distance 是考虑\n",
    "            for i in range(1, k_range):\n",
    "                knn_clf = KNeighborsClassifier(n_neighbors=i, weights=d, p=p)\n",
    "                knn_clf.fit(X_train_standard, y_train)\n",
    "                score = knn_clf.score(X_test_standard, y_test)\n",
    "                if score > best_score:\n",
    "                    best_score = score\n",
    "                    best_k = i\n",
    "                    distance_method = d\n",
    "                    best_p = p\n",
    "    \n",
    "    return best_score, best_k, distance_method, best_p"
   ]
  },
  {
   "cell_type": "code",
   "execution_count": 22,
   "metadata": {},
   "outputs": [
    {
     "name": "stdout",
     "output_type": "stream",
     "text": [
      "best score:  0.9833333333333333\n",
      "best K:  4\n",
      "best method:  distance\n",
      "best p:  2\n"
     ]
    }
   ],
   "source": [
    "best_score2, best_k2, distance_method, best_p = find_best_K_method_p(10, 4)\n",
    "print('best score: ', best_score2)\n",
    "print('best K: ', best_k2)\n",
    "print('best method: ', distance_method)\n",
    "print('best p: ', best_p)"
   ]
  },
  {
   "cell_type": "code",
   "execution_count": null,
   "metadata": {},
   "outputs": [],
   "source": []
  }
 ],
 "metadata": {
  "kernelspec": {
   "display_name": "Python 3",
   "language": "python",
   "name": "python3"
  },
  "language_info": {
   "codemirror_mode": {
    "name": "ipython",
    "version": 3
   },
   "file_extension": ".py",
   "mimetype": "text/x-python",
   "name": "python",
   "nbconvert_exporter": "python",
   "pygments_lexer": "ipython3",
   "version": "3.5.6"
  }
 },
 "nbformat": 4,
 "nbformat_minor": 2
}
