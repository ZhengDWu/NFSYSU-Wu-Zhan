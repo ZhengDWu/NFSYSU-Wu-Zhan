{
 "cells": [
  {
   "cell_type": "markdown",
   "metadata": {},
   "source": [
    "## 1.jupyter notebook 的使用"
   ]
  },
  {
   "cell_type": "markdown",
   "metadata": {},
   "source": [
    "### 1)、按 Esc 进入 命令模式\n",
    "### 2)、按 m 进入 markdown 编辑\n",
    "### 3)、按 a 向上插入一个空白的 cell ， b 向下插入一个空白的 cell\n",
    "### 4)、连续按两次 d 删除当前的 cell（不建议常用，万一删错了就找不回来了）\n",
    "\n",
    "### ------------------分割线-------------------\n",
    "\n",
    "### 1)、按 Enter 进入编辑模式\n",
    "### 2)、按 Shift+Enter 运行当前 cell"
   ]
  },
  {
   "cell_type": "code",
   "execution_count": null,
   "metadata": {},
   "outputs": [],
   "source": []
  }
 ],
 "metadata": {
  "kernelspec": {
   "display_name": "Python 3",
   "language": "python",
   "name": "python3"
  },
  "language_info": {
   "codemirror_mode": {
    "name": "ipython",
    "version": 3
   },
   "file_extension": ".py",
   "mimetype": "text/x-python",
   "name": "python",
   "nbconvert_exporter": "python",
   "pygments_lexer": "ipython3",
   "version": "3.5.6"
  }
 },
 "nbformat": 4,
 "nbformat_minor": 2
}
