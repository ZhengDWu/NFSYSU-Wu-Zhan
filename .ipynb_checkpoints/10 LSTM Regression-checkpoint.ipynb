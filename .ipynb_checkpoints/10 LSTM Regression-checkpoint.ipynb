{
 "cells": [
  {
   "cell_type": "markdown",
   "metadata": {},
   "source": [
    "### LSTM 单特征时间序列的分析"
   ]
  },
  {
   "cell_type": "code",
   "execution_count": 1,
   "metadata": {},
   "outputs": [],
   "source": [
    "import numpy as np\n",
    "import pandas as pd\n",
    "import matplotlib.pyplot as plt\n",
    "%matplotlib inline"
   ]
  },
  {
   "cell_type": "markdown",
   "metadata": {},
   "source": [
    "### 下载数据"
   ]
  },
  {
   "cell_type": "code",
   "execution_count": 2,
   "metadata": {},
   "outputs": [
    {
     "name": "stdout",
     "output_type": "stream",
     "text": [
      "Folder exists\n",
      "File exists\n"
     ]
    }
   ],
   "source": [
    "import os\n",
    "import requests\n",
    "\n",
    "DATASET_URL = 'https://raw.githubusercontent.com/ZhengDWu/NFSYSU-Wu-Zhan/master/dataset/dataset.csv' # the url of the dataset\n",
    "DATASET_PATH = './datasets' # save path\n",
    "\n",
    "def fetch_housing_data(dataset_url=DATASET_URL, dataset_path=DATASET_PATH):\n",
    "    ''' Downloads file from the url and save it as filename '''\n",
    "    # check if folder already exists\n",
    "    if not os.path.exists(dataset_path):\n",
    "        os.makedirs(dataset_path)\n",
    "    else:\n",
    "        print(\"Folder exists\")\n",
    "    # check if file already exists\n",
    "    dataset_file = os.path.join(dataset_path, \"dataset.csv\")\n",
    "    if not os.path.isfile(dataset_file):\n",
    "        print('Downloading File')\n",
    "        response = requests.get(dataset_url)\n",
    "        # Check if the response is ok (200)\n",
    "        if response.status_code == 200:\n",
    "            # Open file and write the content\n",
    "            with open(dataset_file,'wb') as file:\n",
    "                # A chunk of 128 bytes\n",
    "                for chunk in response:\n",
    "                    file.write(chunk)\n",
    "            print('Download finish...')\n",
    "    else:\n",
    "        print('File exists')\n",
    "\n",
    "fetch_housing_data()"
   ]
  },
  {
   "cell_type": "markdown",
   "metadata": {},
   "source": [
    "### 导入数据"
   ]
  },
  {
   "cell_type": "code",
   "execution_count": 3,
   "metadata": {},
   "outputs": [],
   "source": [
    "data_csv = pd.read_csv('./datasets/dataset.csv')"
   ]
  },
  {
   "cell_type": "code",
   "execution_count": 4,
   "metadata": {},
   "outputs": [
    {
     "data": {
      "text/html": [
       "<div>\n",
       "<style scoped>\n",
       "    .dataframe tbody tr th:only-of-type {\n",
       "        vertical-align: middle;\n",
       "    }\n",
       "\n",
       "    .dataframe tbody tr th {\n",
       "        vertical-align: top;\n",
       "    }\n",
       "\n",
       "    .dataframe thead th {\n",
       "        text-align: right;\n",
       "    }\n",
       "</style>\n",
       "<table border=\"1\" class=\"dataframe\">\n",
       "  <thead>\n",
       "    <tr style=\"text-align: right;\">\n",
       "      <th></th>\n",
       "      <th>Month</th>\n",
       "      <th>values</th>\n",
       "    </tr>\n",
       "  </thead>\n",
       "  <tbody>\n",
       "    <tr>\n",
       "      <th>0</th>\n",
       "      <td>Jan-49</td>\n",
       "      <td>112</td>\n",
       "    </tr>\n",
       "    <tr>\n",
       "      <th>1</th>\n",
       "      <td>Feb-49</td>\n",
       "      <td>118</td>\n",
       "    </tr>\n",
       "    <tr>\n",
       "      <th>2</th>\n",
       "      <td>Mar-49</td>\n",
       "      <td>132</td>\n",
       "    </tr>\n",
       "    <tr>\n",
       "      <th>3</th>\n",
       "      <td>Apr-49</td>\n",
       "      <td>129</td>\n",
       "    </tr>\n",
       "    <tr>\n",
       "      <th>4</th>\n",
       "      <td>May-49</td>\n",
       "      <td>121</td>\n",
       "    </tr>\n",
       "    <tr>\n",
       "      <th>5</th>\n",
       "      <td>Jun-49</td>\n",
       "      <td>135</td>\n",
       "    </tr>\n",
       "    <tr>\n",
       "      <th>6</th>\n",
       "      <td>Jul-49</td>\n",
       "      <td>148</td>\n",
       "    </tr>\n",
       "    <tr>\n",
       "      <th>7</th>\n",
       "      <td>Aug-49</td>\n",
       "      <td>148</td>\n",
       "    </tr>\n",
       "    <tr>\n",
       "      <th>8</th>\n",
       "      <td>Sep-49</td>\n",
       "      <td>136</td>\n",
       "    </tr>\n",
       "    <tr>\n",
       "      <th>9</th>\n",
       "      <td>Oct-49</td>\n",
       "      <td>119</td>\n",
       "    </tr>\n",
       "  </tbody>\n",
       "</table>\n",
       "</div>"
      ],
      "text/plain": [
       "    Month  values\n",
       "0  Jan-49     112\n",
       "1  Feb-49     118\n",
       "2  Mar-49     132\n",
       "3  Apr-49     129\n",
       "4  May-49     121\n",
       "5  Jun-49     135\n",
       "6  Jul-49     148\n",
       "7  Aug-49     148\n",
       "8  Sep-49     136\n",
       "9  Oct-49     119"
      ]
     },
     "execution_count": 4,
     "metadata": {},
     "output_type": "execute_result"
    }
   ],
   "source": [
    "data_csv.head(10)"
   ]
  },
  {
   "cell_type": "code",
   "execution_count": 5,
   "metadata": {},
   "outputs": [],
   "source": [
    "price = data_csv['values']"
   ]
  },
  {
   "cell_type": "code",
   "execution_count": 6,
   "metadata": {},
   "outputs": [
    {
     "data": {
      "text/plain": [
       "[<matplotlib.lines.Line2D at 0x1eb2cd22588>]"
      ]
     },
     "execution_count": 6,
     "metadata": {},
     "output_type": "execute_result"
    },
    {
     "data": {
      "image/png": "[encoded data removed]",
      "text/plain": [
       "<Figure size 432x288 with 1 Axes>"
      ]
     },
     "metadata": {
      "needs_background": "light"
     },
     "output_type": "display_data"
    }
   ],
   "source": [
    "plt.plot(range(len(price)), price)"
   ]
  },
  {
   "cell_type": "markdown",
   "metadata": {},
   "source": [
    "### data pre-processing"
   ]
  },
  {
   "cell_type": "code",
   "execution_count": 7,
   "metadata": {},
   "outputs": [],
   "source": [
    "dataset = price.values.reshape(-1, 1) # 将 pandas 的数据 转为 numpy 的，然后再将 标量 变成 矩阵"
   ]
  },
  {
   "cell_type": "code",
   "execution_count": 8,
   "metadata": {},
   "outputs": [
    {
     "data": {
      "text/plain": [
       "(144, 1)"
      ]
     },
     "execution_count": 8,
     "metadata": {},
     "output_type": "execute_result"
    }
   ],
   "source": [
    "dataset.shape"
   ]
  },
  {
   "cell_type": "markdown",
   "metadata": {},
   "source": [
    "### 对数据进行标准化，记住标准化后还要合并数据，后面再次切割 training set 和 testing set"
   ]
  },
  {
   "cell_type": "code",
   "execution_count": 9,
   "metadata": {},
   "outputs": [],
   "source": [
    "# 对数据进行 标准化，将最后 百分之20，作为 测试集 \n",
    "# 但是这里标准化后还是要合并，后续要给数据格式进行处理\n",
    "train_size = int(len(dataset) * 0.8)\n",
    "data_train = dataset[:train_size]\n",
    "data_test = dataset[train_size:]"
   ]
  },
  {
   "cell_type": "code",
   "execution_count": 10,
   "metadata": {},
   "outputs": [
    {
     "name": "stdout",
     "output_type": "stream",
     "text": [
      "the shape of dataset_standard is:  (144, 1)\n"
     ]
    },
    {
     "name": "stderr",
     "output_type": "stream",
     "text": [
      "c:\\users\\wuzhengdong\\appdata\\local\\continuum\\anaconda3\\envs\\wz\\lib\\site-packages\\sklearn\\utils\\validation.py:595: DataConversionWarning: Data with input dtype int64 was converted to float64 by StandardScaler.\n",
      "  warnings.warn(msg, DataConversionWarning)\n",
      "c:\\users\\wuzhengdong\\appdata\\local\\continuum\\anaconda3\\envs\\wz\\lib\\site-packages\\sklearn\\utils\\validation.py:595: DataConversionWarning: Data with input dtype int64 was converted to float64 by StandardScaler.\n",
      "  warnings.warn(msg, DataConversionWarning)\n",
      "c:\\users\\wuzhengdong\\appdata\\local\\continuum\\anaconda3\\envs\\wz\\lib\\site-packages\\sklearn\\utils\\validation.py:595: DataConversionWarning: Data with input dtype int64 was converted to float64 by StandardScaler.\n",
      "  warnings.warn(msg, DataConversionWarning)\n"
     ]
    }
   ],
   "source": [
    "from sklearn.preprocessing import StandardScaler\n",
    "\n",
    "standard = StandardScaler()\n",
    "standard.fit(data_train)\n",
    "\n",
    "data_train_standard = standard.transform(data_train)\n",
    "data_test_standard = standard.transform(data_test)\n",
    "\n",
    "# 合并\n",
    "dataset_standard = np.concatenate((data_train_standard, data_test_standard), axis=0)\n",
    "print('the shape of dataset_standard is: ', dataset_standard.shape)"
   ]
  },
  {
   "cell_type": "markdown",
   "metadata": {},
   "source": [
    "### 过去 7 天来预测 今天 (look_back 这个参数可以自己调)"
   ]
  },
  {
   "cell_type": "code",
   "execution_count": 11,
   "metadata": {},
   "outputs": [],
   "source": [
    "def create_dataset(dataset, look_back=7):\n",
    "    dataX, dataY = [], []\n",
    "    for i in range(len(dataset) - look_back):\n",
    "        a = dataset[i:(i + look_back)]\n",
    "        dataX.append(a)\n",
    "        dataY.append(dataset[i + look_back])\n",
    "    return np.array(dataX), np.array(dataY)"
   ]
  },
  {
   "cell_type": "code",
   "execution_count": 12,
   "metadata": {},
   "outputs": [],
   "source": [
    "data_X, data_Y = create_dataset(dataset_standard)"
   ]
  },
  {
   "cell_type": "code",
   "execution_count": 13,
   "metadata": {},
   "outputs": [
    {
     "data": {
      "text/plain": [
       "(137, 7, 1)"
      ]
     },
     "execution_count": 13,
     "metadata": {},
     "output_type": "execute_result"
    }
   ],
   "source": [
    "data_X.shape"
   ]
  },
  {
   "cell_type": "code",
   "execution_count": 14,
   "metadata": {},
   "outputs": [
    {
     "data": {
      "text/plain": [
       "(137, 1)"
      ]
     },
     "execution_count": 14,
     "metadata": {},
     "output_type": "execute_result"
    }
   ],
   "source": [
    "data_Y.shape"
   ]
  },
  {
   "cell_type": "code",
   "execution_count": 15,
   "metadata": {},
   "outputs": [],
   "source": [
    "# 划分训练集和测试集，80% 作为训练集\n",
    "train_size = int(len(data_X) * 0.8)\n",
    "test_size = len(data_X) - train_size\n",
    "train_X = data_X[:train_size]\n",
    "train_Y = data_Y[:train_size]\n",
    "test_X = data_X[train_size:]\n",
    "test_Y = data_Y[train_size:]"
   ]
  },
  {
   "cell_type": "code",
   "execution_count": 16,
   "metadata": {},
   "outputs": [],
   "source": [
    "import torch\n",
    "\n",
    "train_x = torch.FloatTensor(train_X)\n",
    "test_x = torch.FloatTensor(test_X)\n",
    "train_y = torch.FloatTensor(train_Y)\n",
    "test_y = torch.FloatTensor(test_Y)"
   ]
  },
  {
   "cell_type": "code",
   "execution_count": 17,
   "metadata": {},
   "outputs": [
    {
     "name": "stdout",
     "output_type": "stream",
     "text": [
      "the shape of train_x:  torch.Size([109, 7, 1])\n",
      "the shape of train_x:  torch.Size([28, 7, 1])\n",
      "the shape of train_x:  torch.Size([109, 1])\n",
      "the shape of train_x:  torch.Size([28, 1])\n"
     ]
    }
   ],
   "source": [
    "print('the shape of train_x: ', train_x.size())\n",
    "print('the shape of train_x: ', test_x.size())\n",
    "print('the shape of train_x: ', train_y.size())\n",
    "print('the shape of train_x: ', test_y.size())"
   ]
  },
  {
   "cell_type": "code",
   "execution_count": 18,
   "metadata": {},
   "outputs": [],
   "source": [
    "from torch import nn\n",
    "from torch.autograd import Variable"
   ]
  },
  {
   "cell_type": "markdown",
   "metadata": {},
   "source": [
    "### 设置超参数"
   ]
  },
  {
   "cell_type": "code",
   "execution_count": 19,
   "metadata": {},
   "outputs": [],
   "source": [
    "input_size = 1   # 输入数据 features 的个数\n",
    "hidden_size = 32 # 隐藏层中神经元的个数\n",
    "output_size = 1  # 输出神经元个数\n",
    "num_layers = 1   # lstm 的层数\n",
    "lr = 0.01        # 学习率\n",
    "EPOCH = 10000"
   ]
  },
  {
   "cell_type": "markdown",
   "metadata": {},
   "source": [
    "### 构建网络"
   ]
  },
  {
   "cell_type": "code",
   "execution_count": 20,
   "metadata": {},
   "outputs": [],
   "source": [
    "class LSTM(nn.Module):\n",
    "    def __init__(self):\n",
    "        super(LSTM, self).__init__()\n",
    "        self.rnn = nn.LSTM(input_size, hidden_size, num_layers, batch_first=True) # rnn\n",
    "        self.predict = nn.Linear(hidden_size, output_size) # 回归\n",
    "        \n",
    "    def forward(self, x):\n",
    "        x, (h,o) = self.rnn(x, None)\n",
    "        # 将最后一个时间片扔进 Linear\n",
    "        out = self.predict(x[:,-1,:])\n",
    "        return out"
   ]
  },
  {
   "cell_type": "code",
   "execution_count": 21,
   "metadata": {},
   "outputs": [
    {
     "data": {
      "text/plain": [
       "LSTM(\n",
       "  (rnn): LSTM(1, 32, batch_first=True)\n",
       "  (predict): Linear(in_features=32, out_features=1, bias=True)\n",
       ")"
      ]
     },
     "execution_count": 21,
     "metadata": {},
     "output_type": "execute_result"
    }
   ],
   "source": [
    "rnn = LSTM()\n",
    "rnn"
   ]
  },
  {
   "cell_type": "markdown",
   "metadata": {},
   "source": [
    "### 开始训练"
   ]
  },
  {
   "cell_type": "code",
   "execution_count": 22,
   "metadata": {},
   "outputs": [],
   "source": [
    "optimizer = torch.optim.Adam(rnn.parameters(), lr=lr)\n",
    "loss_func = nn.MSELoss()"
   ]
  },
  {
   "cell_type": "code",
   "execution_count": 23,
   "metadata": {
    "scrolled": true
   },
   "outputs": [
    {
     "name": "stdout",
     "output_type": "stream",
     "text": [
      "Training....  Epoch:  50 loss:  0.121542074\n",
      "Training....  Epoch:  100 loss:  0.058718506\n",
      "Test  Epoch:  100 Loss:  0.35742554\n",
      "Training....  Epoch:  150 loss:  0.050019383\n",
      "Training....  Epoch:  200 loss:  0.034604557\n",
      "Test  Epoch:  200 Loss:  0.28259945\n",
      "Training....  Epoch:  250 loss:  0.030957336\n",
      "Training....  Epoch:  300 loss:  0.02021213\n",
      "Test  Epoch:  300 Loss:  0.21122766\n",
      "Training....  Epoch:  350 loss:  0.016438467\n",
      "Training....  Epoch:  400 loss:  0.011323361\n",
      "Test  Epoch:  400 Loss:  0.15255676\n",
      "Training....  Epoch:  450 loss:  0.009148165\n",
      "Training....  Epoch:  500 loss:  0.006652278\n",
      "Test  Epoch:  500 Loss:  0.112594835\n",
      "Training....  Epoch:  550 loss:  0.005960465\n",
      "Training....  Epoch:  600 loss:  0.0042034937\n",
      "Test  Epoch:  600 Loss:  0.059121408\n",
      "Training....  Epoch:  650 loss:  0.0028862285\n",
      "Training....  Epoch:  700 loss:  0.0017157686\n",
      "Test  Epoch:  700 Loss:  0.10764305\n",
      "Training....  Epoch:  750 loss:  0.002136783\n",
      "Training....  Epoch:  800 loss:  0.0012608552\n",
      "Test  Epoch:  800 Loss:  0.20762073\n",
      "Training....  Epoch:  850 loss:  0.0021399506\n",
      "Training....  Epoch:  900 loss:  0.0010688507\n",
      "Test  Epoch:  900 Loss:  0.10940011\n",
      "Training....  Epoch:  950 loss:  0.0010315194\n",
      "Training....  Epoch:  1000 loss:  0.000647762\n",
      "Test  Epoch:  1000 Loss:  0.07110627\n",
      "Training....  Epoch:  1050 loss:  0.0007920643\n",
      "Training....  Epoch:  1100 loss:  0.00045506403\n",
      "Test  Epoch:  1100 Loss:  0.0668352\n",
      "Training....  Epoch:  1150 loss:  0.00038898364\n",
      "Training....  Epoch:  1200 loss:  0.00029371\n",
      "Test  Epoch:  1200 Loss:  0.058215506\n",
      "Training....  Epoch:  1250 loss:  0.00046982392\n",
      "Training....  Epoch:  1300 loss:  0.00020767626\n",
      "Test  Epoch:  1300 Loss:  0.09948775\n",
      "Training....  Epoch:  1350 loss:  0.0008853765\n",
      "Training....  Epoch:  1400 loss:  0.0002700334\n",
      "Test  Epoch:  1400 Loss:  0.093961135\n",
      "Training....  Epoch:  1450 loss:  0.00028357425\n",
      "Training....  Epoch:  1500 loss:  0.000113979906\n",
      "Test  Epoch:  1500 Loss:  0.082904175\n",
      "Training....  Epoch:  1550 loss:  0.00053167995\n",
      "Training....  Epoch:  1600 loss:  0.00020255655\n",
      "Test  Epoch:  1600 Loss:  0.13467272\n",
      "Training....  Epoch:  1650 loss:  0.00042440722\n",
      "Training....  Epoch:  1700 loss:  0.00013419277\n",
      "Test  Epoch:  1700 Loss:  0.10042636\n",
      "Training....  Epoch:  1750 loss:  0.0002747638\n",
      "Training....  Epoch:  1800 loss:  7.2264054e-05\n",
      "Test  Epoch:  1800 Loss:  0.06182299\n",
      "Training....  Epoch:  1850 loss:  0.000208924\n",
      "Training....  Epoch:  1900 loss:  5.9601156e-05\n",
      "Test  Epoch:  1900 Loss:  0.11533934\n",
      "Training....  Epoch:  1950 loss:  0.00067872123\n",
      "Training....  Epoch:  2000 loss:  0.00023125026\n",
      "Test  Epoch:  2000 Loss:  0.20096055\n",
      "Training....  Epoch:  2050 loss:  0.00059784367\n",
      "Training....  Epoch:  2100 loss:  0.00017874951\n",
      "Test  Epoch:  2100 Loss:  0.17362185\n",
      "Training....  Epoch:  2150 loss:  0.0005241294\n",
      "Training....  Epoch:  2200 loss:  0.00010281287\n",
      "Test  Epoch:  2200 Loss:  0.128126\n",
      "Training....  Epoch:  2250 loss:  0.00021570818\n",
      "Training....  Epoch:  2300 loss:  6.212875e-05\n",
      "Test  Epoch:  2300 Loss:  0.09002438\n",
      "Training....  Epoch:  2350 loss:  0.000118289165\n",
      "Training....  Epoch:  2400 loss:  2.959273e-05\n",
      "Test  Epoch:  2400 Loss:  0.09646025\n",
      "Training....  Epoch:  2450 loss:  0.00014917082\n",
      "Training....  Epoch:  2500 loss:  4.9606704e-05\n",
      "Test  Epoch:  2500 Loss:  0.1370402\n",
      "Training....  Epoch:  2550 loss:  0.00038984563\n",
      "Training....  Epoch:  2600 loss:  5.9582e-05\n",
      "Test  Epoch:  2600 Loss:  0.12771823\n",
      "Training....  Epoch:  2650 loss:  0.0005434333\n",
      "Training....  Epoch:  2700 loss:  0.00010979007\n",
      "Test  Epoch:  2700 Loss:  0.12207179\n",
      "Training....  Epoch:  2750 loss:  0.000397118\n",
      "Training....  Epoch:  2800 loss:  0.00012730277\n",
      "Test  Epoch:  2800 Loss:  0.09971466\n",
      "Training....  Epoch:  2850 loss:  0.00020923978\n",
      "Training....  Epoch:  2900 loss:  5.9653885e-05\n",
      "Test  Epoch:  2900 Loss:  0.099156186\n",
      "Training....  Epoch:  2950 loss:  0.00020136104\n",
      "Training....  Epoch:  3000 loss:  4.040045e-05\n",
      "Test  Epoch:  3000 Loss:  0.04821134\n",
      "Training....  Epoch:  3050 loss:  9.8411074e-05\n",
      "Training....  Epoch:  3100 loss:  2.5468282e-05\n",
      "Test  Epoch:  3100 Loss:  0.05303246\n",
      "Training....  Epoch:  3150 loss:  0.00013149514\n",
      "Training....  Epoch:  3200 loss:  3.9841914e-05\n",
      "Test  Epoch:  3200 Loss:  0.08372473\n",
      "Training....  Epoch:  3250 loss:  0.00013326996\n",
      "Training....  Epoch:  3300 loss:  3.3731092e-05\n",
      "Test  Epoch:  3300 Loss:  0.07145353\n",
      "Training....  Epoch:  3350 loss:  0.00019110991\n",
      "Training....  Epoch:  3400 loss:  2.65408e-05\n",
      "Test  Epoch:  3400 Loss:  0.06198529\n",
      "Training....  Epoch:  3450 loss:  0.00018145627\n",
      "Training....  Epoch:  3500 loss:  4.738428e-05\n",
      "Test  Epoch:  3500 Loss:  0.15134168\n",
      "Training....  Epoch:  3550 loss:  0.000863917\n",
      "Training....  Epoch:  3600 loss:  0.00018248889\n",
      "Test  Epoch:  3600 Loss:  0.08783743\n",
      "Training....  Epoch:  3650 loss:  0.00016132384\n",
      "Training....  Epoch:  3700 loss:  4.1180163e-05\n",
      "Test  Epoch:  3700 Loss:  0.09123052\n",
      "Training....  Epoch:  3750 loss:  0.0003415612\n",
      "Training....  Epoch:  3800 loss:  7.0296985e-05\n",
      "Test  Epoch:  3800 Loss:  0.08135002\n",
      "Training....  Epoch:  3850 loss:  7.6723525e-05\n",
      "Training....  Epoch:  3900 loss:  1.5971616e-05\n",
      "Test  Epoch:  3900 Loss:  0.046904422\n",
      "Training....  Epoch:  3950 loss:  0.000115807794\n",
      "Training....  Epoch:  4000 loss:  2.6454067e-05\n",
      "Test  Epoch:  4000 Loss:  0.050775804\n",
      "Training....  Epoch:  4050 loss:  0.000118270844\n",
      "Training....  Epoch:  4100 loss:  2.0791986e-05\n",
      "Test  Epoch:  4100 Loss:  0.046118226\n",
      "Training....  Epoch:  4150 loss:  9.009291e-05\n",
      "Training....  Epoch:  4200 loss:  1.6030703e-05\n",
      "Test  Epoch:  4200 Loss:  0.052391898\n",
      "Training....  Epoch:  4250 loss:  9.39093e-05\n",
      "Training....  Epoch:  4300 loss:  1.5519627e-05\n",
      "Test  Epoch:  4300 Loss:  0.030508379\n",
      "Training....  Epoch:  4350 loss:  0.000111379384\n",
      "Training....  Epoch:  4400 loss:  2.0385696e-05\n",
      "Test  Epoch:  4400 Loss:  0.04232246\n",
      "Training....  Epoch:  4450 loss:  0.00012121174\n",
      "Training....  Epoch:  4500 loss:  1.01971245e-05\n",
      "Test  Epoch:  4500 Loss:  0.01897137\n",
      "Training....  Epoch:  4550 loss:  4.0685725e-05\n",
      "Training....  Epoch:  4600 loss:  7.653347e-06\n",
      "Test  Epoch:  4600 Loss:  0.02370641\n",
      "Training....  Epoch:  4650 loss:  6.221639e-05\n",
      "Training....  Epoch:  4700 loss:  5.350837e-06\n",
      "Test  Epoch:  4700 Loss:  0.016414305\n",
      "Training....  Epoch:  4750 loss:  3.983289e-05\n",
      "Training....  Epoch:  4800 loss:  6.9119633e-06\n",
      "Test  Epoch:  4800 Loss:  0.025707524\n",
      "Training....  Epoch:  4850 loss:  8.194091e-05\n",
      "Training....  Epoch:  4900 loss:  5.9104545e-06\n",
      "Test  Epoch:  4900 Loss:  0.011439884\n",
      "Training....  Epoch:  4950 loss:  1.8266928e-05\n",
      "Training....  Epoch:  5000 loss:  3.4405655e-06\n",
      "Test  Epoch:  5000 Loss:  0.009599782\n",
      "Training....  Epoch:  5050 loss:  1.5851967e-05\n",
      "Training....  Epoch:  5100 loss:  1.9520771e-06\n",
      "Test  Epoch:  5100 Loss:  0.008473108\n",
      "Training....  Epoch:  5150 loss:  9.59588e-06\n",
      "Training....  Epoch:  5200 loss:  1.5228474e-06\n",
      "Test  Epoch:  5200 Loss:  0.006750841\n",
      "Training....  Epoch:  5250 loss:  1.0525062e-05\n",
      "Training....  Epoch:  5300 loss:  1.0220974e-06\n",
      "Test  Epoch:  5300 Loss:  0.006027214\n",
      "Training....  Epoch:  5350 loss:  9.517815e-06\n",
      "Training....  Epoch:  5400 loss:  1.399586e-06\n",
      "Test  Epoch:  5400 Loss:  0.0081235105\n",
      "Training....  Epoch:  5450 loss:  1.1278671e-05\n",
      "Training....  Epoch:  5500 loss:  1.0421725e-06\n",
      "Test  Epoch:  5500 Loss:  0.010137727\n",
      "Training....  Epoch:  5550 loss:  2.0667792e-05\n",
      "Training....  Epoch:  5600 loss:  2.1101596e-06\n",
      "Test  Epoch:  5600 Loss:  0.022939112\n",
      "Training....  Epoch:  5650 loss:  8.63123e-05\n",
      "Training....  Epoch:  5700 loss:  1.413792e-05\n",
      "Test  Epoch:  5700 Loss:  0.09851506\n",
      "Training....  Epoch:  5750 loss:  0.00014057945\n",
      "Training....  Epoch:  5800 loss:  1.2592474e-05\n",
      "Test  Epoch:  5800 Loss:  0.07765782\n",
      "Training....  Epoch:  5850 loss:  0.00021621499\n",
      "Training....  Epoch:  5900 loss:  4.6864796e-05\n",
      "Test  Epoch:  5900 Loss:  0.12583022\n",
      "Training....  Epoch:  5950 loss:  0.00013336918\n",
      "Training....  Epoch:  6000 loss:  1.7737144e-05\n",
      "Test  Epoch:  6000 Loss:  0.16804622\n",
      "Training....  Epoch:  6050 loss:  0.000692268\n",
      "Training....  Epoch:  6100 loss:  0.00012756746\n",
      "Test  Epoch:  6100 Loss:  0.18417001\n",
      "Training....  Epoch:  6150 loss:  0.00046220733\n",
      "Training....  Epoch:  6200 loss:  0.00014812387\n",
      "Test  Epoch:  6200 Loss:  0.1815667\n",
      "Training....  Epoch:  6250 loss:  0.0006625682\n"
     ]
    },
    {
     "name": "stdout",
     "output_type": "stream",
     "text": [
      "Training....  Epoch:  6300 loss:  0.00013063544\n",
      "Test  Epoch:  6300 Loss:  0.12228257\n",
      "Training....  Epoch:  6350 loss:  0.00023904786\n",
      "Training....  Epoch:  6400 loss:  6.860245e-05\n",
      "Test  Epoch:  6400 Loss:  0.15288246\n",
      "Training....  Epoch:  6450 loss:  0.0005746358\n",
      "Training....  Epoch:  6500 loss:  0.00017771593\n",
      "Test  Epoch:  6500 Loss:  0.18915924\n",
      "Training....  Epoch:  6550 loss:  0.0009896487\n",
      "Training....  Epoch:  6600 loss:  0.00027499723\n",
      "Test  Epoch:  6600 Loss:  0.31690446\n",
      "Training....  Epoch:  6650 loss:  0.00096019823\n",
      "Training....  Epoch:  6700 loss:  0.00030112974\n",
      "Test  Epoch:  6700 Loss:  0.23723033\n",
      "Training....  Epoch:  6750 loss:  0.0005817761\n",
      "Training....  Epoch:  6800 loss:  0.00026966073\n",
      "Test  Epoch:  6800 Loss:  0.1188897\n",
      "Training....  Epoch:  6850 loss:  0.00033855252\n",
      "Training....  Epoch:  6900 loss:  0.0001445893\n",
      "Test  Epoch:  6900 Loss:  0.16151123\n",
      "Training....  Epoch:  6950 loss:  0.00038599363\n",
      "Training....  Epoch:  7000 loss:  0.00013676587\n",
      "Test  Epoch:  7000 Loss:  0.12391104\n",
      "Training....  Epoch:  7050 loss:  0.00031882146\n",
      "Training....  Epoch:  7100 loss:  0.00016086393\n",
      "Test  Epoch:  7100 Loss:  0.100382365\n",
      "Training....  Epoch:  7150 loss:  0.00026100082\n",
      "Training....  Epoch:  7200 loss:  0.00011123054\n",
      "Test  Epoch:  7200 Loss:  0.080965415\n",
      "Training....  Epoch:  7250 loss:  0.00017477969\n",
      "Training....  Epoch:  7300 loss:  7.6473014e-05\n",
      "Test  Epoch:  7300 Loss:  0.039143506\n",
      "Training....  Epoch:  7350 loss:  5.2170468e-05\n",
      "Training....  Epoch:  7400 loss:  2.157315e-05\n",
      "Test  Epoch:  7400 Loss:  0.03729743\n",
      "Training....  Epoch:  7450 loss:  7.5395794e-05\n",
      "Training....  Epoch:  7500 loss:  1.8693572e-05\n",
      "Test  Epoch:  7500 Loss:  0.12174811\n",
      "Training....  Epoch:  7550 loss:  0.00045036955\n",
      "Training....  Epoch:  7600 loss:  0.00010799817\n",
      "Test  Epoch:  7600 Loss:  0.1770627\n",
      "Training....  Epoch:  7650 loss:  0.0003737979\n",
      "Training....  Epoch:  7700 loss:  0.00015673783\n",
      "Test  Epoch:  7700 Loss:  0.14996842\n",
      "Training....  Epoch:  7750 loss:  0.0002467774\n",
      "Training....  Epoch:  7800 loss:  5.7316276e-05\n",
      "Test  Epoch:  7800 Loss:  0.21573941\n",
      "Training....  Epoch:  7850 loss:  0.0005191809\n",
      "Training....  Epoch:  7900 loss:  0.00011221424\n",
      "Test  Epoch:  7900 Loss:  0.19445217\n",
      "Training....  Epoch:  7950 loss:  0.00033708633\n",
      "Training....  Epoch:  8000 loss:  0.00012346535\n",
      "Test  Epoch:  8000 Loss:  0.0786825\n",
      "Training....  Epoch:  8050 loss:  9.750641e-05\n",
      "Training....  Epoch:  8100 loss:  2.3268505e-05\n",
      "Test  Epoch:  8100 Loss:  0.05146756\n",
      "Training....  Epoch:  8150 loss:  0.00010000133\n",
      "Training....  Epoch:  8200 loss:  2.6887223e-05\n",
      "Test  Epoch:  8200 Loss:  0.053326596\n",
      "Training....  Epoch:  8250 loss:  6.198978e-05\n",
      "Training....  Epoch:  8300 loss:  1.3197243e-05\n",
      "Test  Epoch:  8300 Loss:  0.05204004\n",
      "Training....  Epoch:  8350 loss:  0.000120817174\n",
      "Training....  Epoch:  8400 loss:  3.0116289e-05\n",
      "Test  Epoch:  8400 Loss:  0.04420152\n",
      "Training....  Epoch:  8450 loss:  0.00010157514\n",
      "Training....  Epoch:  8500 loss:  2.7006252e-05\n",
      "Test  Epoch:  8500 Loss:  0.09844543\n",
      "Training....  Epoch:  8550 loss:  0.00015500581\n",
      "Training....  Epoch:  8600 loss:  2.6091599e-05\n",
      "Test  Epoch:  8600 Loss:  0.060167413\n",
      "Training....  Epoch:  8650 loss:  5.1675168e-05\n",
      "Training....  Epoch:  8700 loss:  1.3862238e-05\n",
      "Test  Epoch:  8700 Loss:  0.029616283\n",
      "Training....  Epoch:  8750 loss:  2.7031145e-05\n",
      "Training....  Epoch:  8800 loss:  7.0238734e-06\n",
      "Test  Epoch:  8800 Loss:  0.046096895\n",
      "Training....  Epoch:  8850 loss:  0.00011213084\n",
      "Training....  Epoch:  8900 loss:  1.9806432e-05\n",
      "Test  Epoch:  8900 Loss:  0.067505576\n",
      "Training....  Epoch:  8950 loss:  0.0001390991\n",
      "Training....  Epoch:  9000 loss:  2.7699743e-05\n",
      "Test  Epoch:  9000 Loss:  0.0648485\n",
      "Training....  Epoch:  9050 loss:  8.715081e-05\n",
      "Training....  Epoch:  9100 loss:  2.1112366e-05\n",
      "Test  Epoch:  9100 Loss:  0.032623373\n",
      "Training....  Epoch:  9150 loss:  6.33043e-05\n",
      "Training....  Epoch:  9200 loss:  1.3100895e-05\n",
      "Test  Epoch:  9200 Loss:  0.018173244\n",
      "Training....  Epoch:  9250 loss:  2.310177e-05\n",
      "Training....  Epoch:  9300 loss:  5.2293153e-06\n",
      "Test  Epoch:  9300 Loss:  0.03218831\n",
      "Training....  Epoch:  9350 loss:  3.8075814e-05\n",
      "Training....  Epoch:  9400 loss:  7.599841e-06\n",
      "Test  Epoch:  9400 Loss:  0.018031176\n",
      "Training....  Epoch:  9450 loss:  2.0892263e-05\n",
      "Training....  Epoch:  9500 loss:  2.9261153e-06\n",
      "Test  Epoch:  9500 Loss:  0.019802367\n",
      "Training....  Epoch:  9550 loss:  3.0396273e-05\n",
      "Training....  Epoch:  9600 loss:  4.108018e-06\n",
      "Test  Epoch:  9600 Loss:  0.014527393\n",
      "Training....  Epoch:  9650 loss:  1.5718728e-05\n",
      "Training....  Epoch:  9700 loss:  2.2918066e-06\n",
      "Test  Epoch:  9700 Loss:  0.021553665\n",
      "Training....  Epoch:  9750 loss:  5.3047395e-05\n",
      "Training....  Epoch:  9800 loss:  6.0169314e-06\n",
      "Test  Epoch:  9800 Loss:  0.02741147\n",
      "Training....  Epoch:  9850 loss:  6.6212764e-05\n",
      "Training....  Epoch:  9900 loss:  9.610323e-06\n",
      "Test  Epoch:  9900 Loss:  0.03887854\n",
      "Training....  Epoch:  9950 loss:  0.00015359287\n",
      "Training....  Epoch:  10000 loss:  1.9698531e-05\n",
      "Test  Epoch:  10000 Loss:  0.025279209\n"
     ]
    }
   ],
   "source": [
    "train_loss = []\n",
    "test_loss = []\n",
    "\n",
    "for epoch in range(EPOCH):\n",
    "    var_x = Variable(train_x)\n",
    "    var_y = Variable(train_y)\n",
    "    \n",
    "    out = rnn(var_x)\n",
    "    trainloss = loss_func(out, var_y)\n",
    "\n",
    "    optimizer.zero_grad()\n",
    "    trainloss.backward()\n",
    "    optimizer.step()\n",
    "    \n",
    "    \n",
    "    if (epoch+1) % 50 == 0:\n",
    "        train_loss.append(trainloss.data.numpy())\n",
    "        print(\"Training.... \", 'Epoch: ', (epoch+1), 'loss: ', trainloss.data.numpy())\n",
    "    \n",
    "    # 使用测试集\n",
    "    if (epoch+1) % 100 == 0:\n",
    "        \n",
    "        var_test_x = Variable(test_x)\n",
    "        var_test_y = Variable(test_y)\n",
    "        y_predict = rnn(var_test_x)\n",
    "        testloss = loss_func(y_predict, var_test_y)\n",
    "        test_loss.append(testloss)\n",
    "        \n",
    "        optimizer.zero_grad()\n",
    "        testloss.backward()\n",
    "        optimizer.step()\n",
    "        \n",
    "        print('Test ', 'Epoch: ', (epoch+1), 'Loss: ', testloss.data.numpy())"
   ]
  },
  {
   "cell_type": "code",
   "execution_count": 24,
   "metadata": {},
   "outputs": [
    {
     "data": {
      "image/png": "[encoded data removed]",
      "text/plain": [
       "<Figure size 432x288 with 1 Axes>"
      ]
     },
     "metadata": {
      "needs_background": "light"
     },
     "output_type": "display_data"
    }
   ],
   "source": [
    "plt.plot(train_loss, 'r', label='trianing loss')\n",
    "plt.legend()\n",
    "plt.show()"
   ]
  },
  {
   "cell_type": "code",
   "execution_count": 25,
   "metadata": {},
   "outputs": [
    {
     "data": {
      "image/png": "[encoded data removed]",
      "text/plain": [
       "<Figure size 432x288 with 1 Axes>"
      ]
     },
     "metadata": {
      "needs_background": "light"
     },
     "output_type": "display_data"
    }
   ],
   "source": [
    "plt.plot(test_loss, 'r', label='testing loss')\n",
    "plt.legend()\n",
    "plt.show()"
   ]
  },
  {
   "cell_type": "markdown",
   "metadata": {},
   "source": [
    "#### Variable to tensor to numpy"
   ]
  },
  {
   "cell_type": "code",
   "execution_count": 26,
   "metadata": {},
   "outputs": [],
   "source": [
    "train_prediction = out.data.numpy()\n",
    "test_prediction = y_predict.data.numpy()"
   ]
  },
  {
   "cell_type": "code",
   "execution_count": 27,
   "metadata": {},
   "outputs": [],
   "source": [
    "# 合并\n",
    "prediction = np.vstack((train_prediction, test_prediction))"
   ]
  },
  {
   "cell_type": "code",
   "execution_count": 28,
   "metadata": {},
   "outputs": [],
   "source": [
    "from sklearn.metrics import r2_score\n",
    "from sklearn.metrics import mean_squared_error\n",
    "from sklearn.metrics import mean_absolute_error\n",
    "\n",
    "def calculate(y_true, y_predict):\n",
    "    print('MAE: ', mean_absolute_error(y_true, y_predict))\n",
    "    print('MSE: ', mean_squared_error(y_true, y_predict))\n",
    "    print('RMSE: ', np.sqrt(mean_squared_error(y_true, y_predict)))\n",
    "    print('R2: ', r2_score(y_true, y_predict))"
   ]
  },
  {
   "cell_type": "code",
   "execution_count": 29,
   "metadata": {},
   "outputs": [
    {
     "name": "stdout",
     "output_type": "stream",
     "text": [
      "标准化后的数据\n",
      "MAE:  0.12499992344118889\n",
      "MSE:  0.025279212797754635\n",
      "RMSE:  0.1589943797678227\n",
      "R2:  0.9660966684487133\n"
     ]
    }
   ],
   "source": [
    "print('标准化后的数据')\n",
    "calculate(test_Y, test_prediction)"
   ]
  },
  {
   "cell_type": "markdown",
   "metadata": {},
   "source": [
    "### 将所有数据都 反标准化"
   ]
  },
  {
   "cell_type": "code",
   "execution_count": 30,
   "metadata": {},
   "outputs": [
    {
     "name": "stdout",
     "output_type": "stream",
     "text": [
      "the shape of origin_dataset:  (28, 1)\n",
      "the shape of origin_prediction:  (28, 1)\n"
     ]
    }
   ],
   "source": [
    "origin_test_Y = standard.inverse_transform(test_Y)\n",
    "origin_test_prediction = standard.inverse_transform(test_prediction)\n",
    "print('the shape of origin_dataset: ', origin_test_Y.shape)\n",
    "print('the shape of origin_prediction: ', origin_test_prediction.shape)"
   ]
  },
  {
   "cell_type": "code",
   "execution_count": 31,
   "metadata": {},
   "outputs": [
    {
     "name": "stdout",
     "output_type": "stream",
     "text": [
      "反标准化变回原来数据:\n",
      "MAE:  11.36871337890625\n",
      "MSE:  209.10603055663938\n",
      "RMSE:  14.460498973294088\n",
      "R2:  0.9660966736022496\n"
     ]
    }
   ],
   "source": [
    "print('反标准化变回原来数据:')\n",
    "calculate(origin_test_Y, origin_test_prediction)"
   ]
  },
  {
   "cell_type": "code",
   "execution_count": 32,
   "metadata": {},
   "outputs": [
    {
     "data": {
      "image/png": "[encoded data removed]",
      "text/plain": [
       "<Figure size 432x288 with 1 Axes>"
      ]
     },
     "metadata": {
      "needs_background": "light"
     },
     "output_type": "display_data"
    }
   ],
   "source": [
    "# 测试集 图像\n",
    "plt.plot(origin_test_Y, 'r--', label=\"y_true\")\n",
    "plt.plot(origin_test_prediction, 'b', label=\"y_predict\")\n",
    "plt.legend(loc=\"best\")\n",
    "plt.show()"
   ]
  },
  {
   "cell_type": "code",
   "execution_count": 33,
   "metadata": {},
   "outputs": [
    {
     "data": {
      "image/png": "[encoded data removed]",
      "text/plain": [
       "<Figure size 432x288 with 1 Axes>"
      ]
     },
     "metadata": {
      "needs_background": "light"
     },
     "output_type": "display_data"
    }
   ],
   "source": [
    "# 整体数据集的预测趋势（training set and testing set）\n",
    "# 反标准化\n",
    "origin_dataset = standard.inverse_transform(data_Y)\n",
    "origin_prediction = standard.inverse_transform(prediction)\n",
    "\n",
    "plt.plot(origin_prediction, 'r', label='perdiction')\n",
    "plt.plot(origin_dataset, 'b', label='real')\n",
    "plt.legend(loc='best')\n",
    "plt.show()"
   ]
  },
  {
   "cell_type": "code",
   "execution_count": null,
   "metadata": {},
   "outputs": [],
   "source": []
  }
 ],
 "metadata": {
  "kernelspec": {
   "display_name": "Python 3",
   "language": "python",
   "name": "python3"
  },
  "language_info": {
   "codemirror_mode": {
    "name": "ipython",
    "version": 3
   },
   "file_extension": ".py",
   "mimetype": "text/x-python",
   "name": "python",
   "nbconvert_exporter": "python",
   "pygments_lexer": "ipython3",
   "version": "3.5.6"
  }
 },
 "nbformat": 4,
 "nbformat_minor": 2
}
